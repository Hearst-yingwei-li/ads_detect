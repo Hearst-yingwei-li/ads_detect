{
 "cells": [
  {
   "cell_type": "code",
   "execution_count": 2,
   "id": "d7ddc57c",
   "metadata": {},
   "outputs": [],
   "source": [
    "import pandas as pd"
   ]
  },
  {
   "cell_type": "code",
   "execution_count": 1,
   "id": "ca72ae3c",
   "metadata": {},
   "outputs": [
    {
     "name": "stdout",
     "output_type": "stream",
     "text": [
      "Request failed with status code 403\n",
      "Response content:\n",
      "\n",
      "\t<!DOCTYPE html>\n",
      "\t<html class=\"no-js\" lang=\"ja-JP\">\n",
      "\t\t<head>\n",
      "\t\t\t<title>ELLE | Error | Media Platform</title>\n",
      "\n",
      "\t\t\t<meta name=\"csrf-param\" content=\"_csrf\">\n",
      "<meta name=\"csrf-token\" content=\"oY7iqifeLZhSQmP_ijDEhUmOWrl8M5WlE1g3YhBbpvvA64j7cZdX3Ac6Jp3TVP3OI8wSzwhl5vdyFUQNRCjTkw==\">\n",
      "\n",
      "\n",
      "\t\t\t<meta name=\"charset\" charset=\"UTF-8\">\n",
      "<meta name=\"x-ua-compatible\" content=\"IE=edge,chrome=1\" http_equiv=\"X-UA-Compatible\">\n",
      "<meta name=\"viewport\" content=\"width=device-width,initial-scale=1\">\n",
      "<meta name=\"msapplication-tap-highlight\" content=\"no\">\n",
      "<meta name=\"theme-color\" content=\"#74DCFF\">\n",
      "<link href=\"/favicon.ico\" rel=\"shortcut icon\">\n",
      "<link href=\"/favicon.ico\" rel=\"icon\">\n",
      "<link id=\"\" href=\"/assets/dist/css/../css/main.7c210bdfc630c37e2e7b.bundle.css\" rel=\"stylesheet\">\n",
      "<link id=\"\" href=\"/assets/dist/css/../css/compat.18ae8a6bc7e5788295dc.bundle.css\" rel=\"stylesheet\">\n",
      "<script src=\"/assets/js/lib/modernizr-3.3.1.min.js?9.483.0\"></script>\n",
      "<script id=\"\" src=\"/assets/dist/js/manifest.67b42ef9b91be1ea64bb.js\"></script>\n",
      "<script id=\"\" src=\"/assets/dist/js/vendor.a4560639f2c81547a64a.js\"></script>\n",
      "<script id=\"\" src=\"/assets/dist/js/common.22885af1a08d53062b41.js\"></script>\n",
      "<script>window.URL_LANGUAGE_PREFIX = \"jp\";window.MESSAGES = [];\n",
      "( function( d ) {\n",
      "\tvar s = document.createElement( \"script\" );\n",
      "\n",
      "\ts.async = true;\n",
      "\n",
      "\ts.src = \"//nexus.ensighten.com/hearst/mediaos2/Bootstrap.js\";\n",
      "\n",
      "\tif ( d.cookie.indexOf( \"nsghtn=dev\" ) > -1 ) {\n",
      "\t\ts.src = \"//nexus.ensighten.com/hearst/mediaos2-dev/Bootstrap.js\";\n",
      "\t}\n",
      "\n",
      "\td.getElementsByTagName( \"head\" )[ 0 ].appendChild( s );\n",
      "} )( document );\n",
      "</script>\n",
      "\n",
      "\t\t\t<script>\n",
      "    var gaAccountId = '104941982',\n",
      "    gaPropertyId = '1',\n",
      "    gaSiteName = 'ELLE JP',\n",
      "    gaUserId = '',\n",
      "    gaTrackingId = 'UA-' + gaAccountId + '-' + gaPropertyId;\n",
      "\n",
      "    if ( gaAccountId ) {\n",
      "        (function(i,s,o,g,r,a,m){i['GoogleAnalyticsObject']=r;i[r]=i[r]||function(){\n",
      "        (i[r].q=i[r].q||[]).push(arguments)},i[r].l=1*new Date();a=s.createElement(o),\n",
      "        m=s.getElementsByTagName(o)[0];a.async=1;a.src=g;m.parentNode.insertBefore(a,m)\n",
      "        })(window,document,'script','https://www.google-analytics.com/analytics.js','ga');\n",
      "\n",
      "        ga('create', gaTrackingId, 'auto', { alwaysSendReferrer: true });\n",
      "\n",
      "        ga('set', 'transport', 'beacon');\n",
      "        ga('set', 'userId', gaUserId);\n",
      "        ga('set', 'dimension1', gaSiteName);\n",
      "        ga('set', 'dimension2', gaUserId);\n",
      "\n",
      "        ga('send', 'pageview');\n",
      "    }\n",
      "\n",
      "    function gtag() {\n",
      "        window.dataLayer.push(arguments);\n",
      "    }\n",
      "\n",
      "    window.dataLayer = window.dataLayer || [];\n",
      "    window.ga4TrackingId = '';\n",
      "    if (window.ga4TrackingId) {\n",
      "      const loadScript = (src) => {\n",
      "        const script = document.createElement('script');\n",
      "        script.setAttribute('type', 'text/javascript');\n",
      "        script.setAttribute('src', src);\n",
      "        script.setAttribute('async', true);\n",
      "\n",
      "        const head = document.getElementsByTagName('head');\n",
      "        head[0].appendChild(script);\n",
      "      }\n",
      "\n",
      "      loadScript(`https://www.googletagmanager.com/gtag/js?id=${window.ga4TrackingId}`);\n",
      "\n",
      "      gtag('js', new Date());\n",
      "      gtag('config', window.ga4TrackingId, {\n",
      "        send_page_view: false,\n",
      "        groups: ['default'],\n",
      "      });\n",
      "    }\n",
      "</script>\n",
      "\n",
      "\t\t\t\t\t\t\t\t</head>\n",
      "\n",
      "\t\t<body class=\"\">\n",
      "\t\t\t\n",
      "\t\t\t\t\n",
      "\t\t\t\t<div class=\"site-content\">\n",
      "\t\t\t\t\t<div class=\"page-wrapper error-page\">\n",
      "\t<header>\n",
      "\t\t<h1 class=\"heading\"><span class=\"icon icon-404-face\"></span></h1>\n",
      "\t</header>\n",
      "\n",
      "\t<div class=\"information\">\n",
      "\t<h2 class=\"description\">You must be logged in to view this page</h2>\n",
      "\n",
      "\t<p class=\"to-homepage\">\n",
      "\t\t<a href=\"/jp/\">\n",
      "\t\t\tGo to the homepage\n",
      "\t\t</a>\n",
      "\t</p>\n",
      "</div>\n",
      "\n",
      "</div>\n",
      "\n",
      "\t\t\t\t</div>\n",
      "\t\t\t<script id=\"require-js-script-tag\" src=\"/assets/dist/js/site/error.0f9fa87b045d95157a7f.js\" async></script>\n",
      "<script>performance.mark(\"dom-content-loaded\")\n",
      "window.ENV = \"stage\";\n",
      "window.FRE_HOSTNAME = \"www-stage.elle.com\";\n",
      "window.EDIT_HOSTNAME = \"edit-elle.kubestage.hearstapps.net\";\n",
      "window.PUBLIC_IMAGE_HOSTNAME = \"https://hips.hearstapps.net/hmg-dev\";\n",
      "window.PUBLIC_FILE_HOSTNAME = \"https://hmg-dev.s3.amazonaws.com\";\n",
      "window.HOMEPAGE_SECTION_SLUG = \"default\";\n",
      "window.DEFAULT_VIDEO_THUMBNAIL = \"/assets/images/videos/default-thumbnail.png\";\n",
      "window.STATUSES = {\"draft\":1,\"scheduled\":2,\"published\":3,\"deleted\":4};\n",
      "window.SOURCE_TYPES = {\"generic\":1,\"image\":2,\"editorial\":3,\"site\":4};\n",
      "window.JWPLAYER_KEY = 'TQudUwL1nBbXbZpRiqumv3imuIoZOc0Pzc7IaA=='\n",
      "window.VIDEO_PLAYER_HOST = '//glimmer.hearstapps.net'\n",
      "window.SOCKET_APP_KEY = '715ee7a149d1402ed5f3'\n",
      "window.CSRF_TOKEN = 'oY7iqifeLZhSQmP_ijDEhUmOWrl8M5WlE1g3YhBbpvvA64j7cZdX3Ac6Jp3TVP3OI8wSzwhl5vdyFUQNRCjTkw=='\n",
      "window.STENO_URL = 'https://steno.kubestage.hearstapps.net'\n",
      "window.TRANSCODER_PRESETS = [\"original\",\"rover_16x9_1080p_hd\",\"rover_9x16_1080p_hd\",\"rover_4x3_1080p_hd\",\"rover_1x1_1080p_hd\",\"rover_16x9_720p_hd\",\"rover_9x16_720p_hd\",\"rover_4x3_720p_hd\",\"rover_1x1_720p_hd\",\"rover_16x9_480p_sd\",\"rover_9x16_480p_sd\",\"rover_4x3_480p_sd\",\"rover_1x1_480p_sd\",\"rover_16x9_240p_sd\",\"apple_m3u8\"];\n",
      "window.FB_CLIENT_TOKEN = \"96ebfc095f3df6a84504534ff33c3d84\";\n",
      "window.FB_APP_ID = \"838824530191697\";\n",
      "window.DATADOG_RUM_APP_ID = \"34845c60-ef20-46d8-8994-886a4377c029\";\n",
      "window.DATADOG_RUM_CLIENT_TOKEN = \"pubf33bb62dd8ef33d3b2aa4cffcfd90336\";\n",
      "window.magentoProductDomains = [\"store.runnersworld.com\",\"shop.countryliving.com\",\"store.delish.com\",\"shop.prevention.com\",\"shop.bicycling.com\",\"shop.menshealth.com\",\"shop.womenshealthmag.com\",\"shop.esquire.com\",\"shop.goodhousekeeping.com\",\"shop.elle.com\",\"shop.cosmopolitan.com\",\"shop.womansday.com\",\"shop.thehgtvmag.com\",\"store.caranddriver.com\",\"shop.townandcountrymag.com\",\"shop.housebeautiful.com\",\"store.harpersbazaar.com\",\"shop.popularmechanics.com\",\"shop.veranda.com\",\"shop.elledecor.com\",\"shop.thefoodnetworkmag.com\",\"shop.thepioneerwoman.com\",\"shop.oprahdaily.com\",\"shop.delish.com\"];\n",
      "window.currencyList = [\"\",\"USD\",\"THB\",\"HKD\",\"TRY\",\"MYR\",\"CNY\",\"SGD\",\"JPY\",\"AUD\",\"INR\",\"GBP\",\"CAD\",\"NGN\",\"AED\",\"TWD\",\"EUR\",\"NZD\"];\n",
      "window.BUSINESS_UNIT = {\"id\":\"ad046b46-538b-42cb-aa54-c3d158875ed6\",\"created_at\":\"2016-01-23T03:19:08.858000Z\",\"updated_at\":\"2025-02-18T19:35:37.319205Z\",\"name\":\"Hearst Digital Media\",\"abbreviation\":\"HDM\",\"metadata\":{\"crops\":{\"lede\":[\"1x1\",\"2x1\"],\"index\":[\"2x1\",\"1x1\"],\"social\":[\"2x1\",\"1x1\"],\"pinterest\":[\"freeform\"],\"review_lede\":[\"16x9\",\"4x3\"],\"longform_lede\":[\"1x1\",\"16x9\",\"4x3\",\"9x16\"],\"standard_lede\":[\"freeform\",\"2x1\",\"16x9\",\"6x4\",\"1x1\",\"8x10\",\"4x6\",\"18x11\"]},\"router\":[],\"image_rights\":0,\"content_types\":[\"Default\",\"Video\",\"Tips\",\"Reviews\",\"Recipes\",\"Quizzes\",\"Q&A\",\"Products\",\"News\",\"Interview\",\"How To\",\"Horoscopes\",\"Features\",\"Advice\"],\"display_types\":[],\"hipsPathMapper\":[],\"syndication_rights\":3,\"related_content_limit\":4},\"default_consumer_search\":\"concorde\",\"default_editorial_search\":\"concorde\"};\n",
      "window.CURRENT_LOCALE = {\"id\":\"074468a8-d22c-467b-b1c4-e58e5320ea2e\",\"created_at\":\"2016-01-23T03:19:09.360000Z\",\"updated_at\":\"2021-03-02T14:52:36.022575Z\",\"name\":\"Japan\",\"language\":\"ja\",\"country\":\"JP\",\"url_path\":\"jp\",\"currency\":\"JPY\",\"is_default\":false};\n",
      "window.CURRENT_SITE = {\"id\":\"2bb3c0e5-8b6f-4968-8aa7-5fdc0868aad8\",\"brand\":{\"id\":\"5ea491e1-fb23-4950-b810-d8f012b87494\",\"created_at\":\"2016-01-23T03:19:09.018000Z\",\"updated_at\":\"2017-06-12T22:18:47.656079Z\",\"name\":\"ELLE\",\"slug\":\"elle\",\"metadata\":[],\"default_locale\":\"ce9851fb-c3a3-4b8b-8069-1f3d37f87dd9\",\"business_unit\":\"ad046b46-538b-42cb-aa54-c3d158875ed6\"},\"cms_settings\":{\"defaults\":{\"commerce_settings\":{\"content\":{\"disclaimer\":true,\"pros_and_cons\":true,\"show_brands\":true,\"show_vendors\":true},\"galleries\":{\"lock_positions\":0,\"slide_reordering\":false,\"slide_reordering_lift_traffic\":false,\"slide_time_ranges\":\"7 Days\"},\"products\":{\"block_affiliates\":false,\"hide_brand\":false,\"multi_retailer\":true,\"smart_swap\":true,\"use_custom_cta\":false,\"use_custom_currency\":false}},\"distribution\":{\"auto_publish_to_social_feeds\":\"Do Not Auto-Social\"},\"gallery_settings\":{\"slide_counter\":\"Count Up\"},\"general_settings\":{\"body_video_ads\":true,\"body_video_related\":false,\"commenting\":true,\"exclude_from_paywall\":false,\"external_search\":true,\"internal_search\":true,\"lead_video_ads\":true,\"lead_video_related\":true,\"no_follow\":false,\"opinion_label\":false,\"watch_next_player\":true},\"syndication\":{\"can_be_syndicated\":true,\"can_syndicate\":true},\"syndication_rights\":{\"cross_site_content_rights\":[],\"cross_site_image_rights\":[],\"cross_site_video_rights\":[],\"partner_content_syndication_rights\":\"OK for Syndication\",\"partner_image_syndication_rights\":\"OK for Syndication\"}},\"embed_menu_list\":[],\"gallery_layout\":[{\"label\":\"Listicle\",\"value\":\"embedded-listicle\",\"primary\":true}],\"header_layout\":[{\"label\":\"Text Only\",\"value\":\"Text Only\",\"primary\":true}]},\"links\":{\"hostnames\":{\"fre\":{\"dev\":\"elle.kubefeature.hearstapps.net\",\"prod\":\"www.elle.com\",\"stage\":\"www-stage.elle.com\"},\"edit\":{\"dev\":\"edit-elle.kubefeature.hearstapps.net\",\"prod\":\"edit-elle.prod.hearstapps.com\",\"stage\":\"edit-elle.kubestage.hearstapps.net\"}},\"includeLocalePath\":true},\"pools\":[{\"id\":\"27557457-b714-40b1-9af0-bcc0516e4826\",\"created_at\":\"2023-10-16T14:23:36.417492Z\",\"updated_at\":\"2023-10-16T14:24:14.894731Z\",\"name\":\"Hearst Mags JP - Content and Images\",\"slug\":null,\"metadata\":[],\"type\":\"06d24e73-c4a3-44b2-afdc-4459e41a31fc\",\"last_updated_by\":null,\"sites\":[\"e5d73314-fc44-479e-b865-17df155277fc\",\"5c870a1f-9506-428e-9a3c-9164a81b9f7b\",\"7b5519d4-1eed-4014-b5a3-5fdaa9a0400a\",\"b2981ce0-9987-4415-9d4f-db4eb206b3b1\",\"149338cf-6960-4ac6-98e0-edc4c8cc81db\",\"c074ea26-a0de-4ef0-b7d0-0dcfb046d741\",\"147b3341-9215-4d65-9d35-3ae7ea3cb28c\",\"a982b743-6621-48b2-b372-e13e8c5b162b\",\"67f159c8-0b94-4b68-ba6e-62b61b2039aa\",\"2bb3c0e5-8b6f-4968-8aa7-5fdc0868aad8\",\"5ceb5581-5708-43de-ad58-d2dbba312cf1\"]},{\"id\":\"a5a3214b-edd7-4f2b-b4db-f92ac3e8a4b0\",\"created_at\":\"2022-07-08T17:14:32.367313Z\",\"updated_at\":\"2022-07-08T17:16:37.038680Z\",\"name\":\"All International Sites - Content and Images\",\"slug\":null,\"metadata\":[],\"type\":\"06d24e73-c4a3-44b2-afdc-4459e41a31fc\",\"last_updated_by\":null,\"sites\":[\"332ebfc8-0a95-4a12-a1bd-12b7fc9d579e\",\"1ec14f32-1a0a-4756-b3db-327d1de3ffef\",\"e5d73314-fc44-479e-b865-17df155277fc\",\"6c53993e-21b6-4b97-b080-f9494728edce\",\"5c870a1f-9506-428e-9a3c-9164a81b9f7b\",\"37161c94-0b02-41a3-a1e3-9c7806066dba\",\"f12ccbf4-a362-4881-92e9-0ee58c382633\",\"7b5519d4-1eed-4014-b5a3-5fdaa9a0400a\",\"b2981ce0-9987-4415-9d4f-db4eb206b3b1\",\"e2964f4c-fa73-4d83-b509-add1fb2eb197\",\"6db44483-527a-4055-be14-2ae83fd226b9\",\"149338cf-6960-4ac6-98e0-edc4c8cc81db\",\"ad15eb7e-1a9a-4c47-a32a-538baa5d8732\",\"c33b4f9d-739c-43cc-8005-000a40663795\",\"0dd30f95-a604-4dc1-adc3-fd6ae8cf1f0d\",\"0ab1ab29-0881-4ce6-a483-1d8cb3d12948\",\"bdfeff23-8a70-4505-b844-235044521a56\",\"12562ade-d4c3-4f79-9510-4d66c997e1ec\",\"28af9440-23fa-41e1-9f31-ab1cfbedda7f\",\"34da6eb7-6d37-48ec-8d52-b9861020b7a1\",\"b818baec-e37c-4a76-a3a7-4da802b884f7\",\"ad2f8198-ab16-45bf-9ca6-509d113d608a\",\"877cd257-f17e-4a2e-940d-648f57cb2206\",\"c074ea26-a0de-4ef0-b7d0-0dcfb046d741\",\"147b3341-9215-4d65-9d35-3ae7ea3cb28c\",\"a982b743-6621-48b2-b372-e13e8c5b162b\",\"0c455479-26d9-4947-b724-1f061f1df07a\",\"3c00cb97-6546-41a3-a3a3-5267346b0847\",\"bbf2debb-f671-4adc-b2c9-25a45301bbd7\",\"19f553de-2b98-4987-a4b6-152e34fd293c\",\"d719c6cd-9cae-4efc-94d9-35196862c070\",\"5aa0ebd7-2e99-4b60-a939-e638055cc98d\",\"bf230aaf-b86d-4bc7-8e37-4bb98b5f8571\",\"e8a478fc-b4ae-4cf4-a737-8475b33e3b34\",\"92d07c0b-730d-4727-bddc-68f85354bda9\",\"ea4bb407-ec21-446a-a75b-8fc7d58bc376\",\"2bb3c0e5-8b6f-4968-8aa7-5fdc0868aad8\",\"12011353-0ac8-495b-87d1-541056f96655\",\"c91c7c9d-f32f-4a0e-85a6-41c49b9e34ef\",\"3e62df9c-cc1d-4079-b0ab-044ee532a631\",\"34b9af8f-051f-4fcf-b453-a80cd627f0d9\",\"d7d5e3eb-0f8a-4223-a18e-b239f43eda6c\",\"0550d705-7712-4019-a8b2-0f35da30918c\",\"ac7cc41a-8edc-44e8-81c0-671e8a476d42\",\"315b2bba-c4a8-446d-9237-6e6750390ee7\",\"5545cc0d-2c00-4ffe-8b27-aa070fd2db3c\",\"de71aba6-2446-4bbd-be05-b00c142b7c8b\",\"b22e688a-7e22-416b-81d8-c6bfbd6717c5\",\"832c1f35-8f87-4c52-aebe-07f89f3c5934\",\"ac4b85e0-a5fc-472b-9780-ce090ac4226d\",\"576e18cc-e59d-42ae-9efb-29fb01df5a48\",\"190ce153-424a-469c-a2ee-0521e9e2c5cb\",\"0d95aca0-599b-467c-81b5-391ed03be70e\",\"73f36449-646d-480d-bdba-369f484c6984\",\"b6ff4092-c86b-44d4-8a3f-ea3e1ba5acfc\",\"53fd7fa5-d43c-401b-823b-b21cf6cddcd6\",\"6dd86f1d-80ff-47e2-ade4-cef88b43bf8b\",\"11450e94-9e7a-4e13-b53d-1c4e5f2ba9c4\",\"e5d981ad-90f9-48da-9b3e-d0d4cf6fa28a\",\"8c4412ae-225f-4ccc-8c63-d51d85fcb326\",\"f64606a7-1720-4799-9bc0-664c4a93e214\",\"5ceb5581-5708-43de-ad58-d2dbba312cf1\",\"d373c840-ece5-4ebc-a094-32ac96ffad6c\"]}],\"video_config\":null};\n",
      "window.FRE_PROTOCOL = \"http:\";\n",
      "window.SENTRY_DSN = \"\";\n",
      "window.REDACTOR_CONFIG = {\"embeds\":{\"label\":\"Embeds\",\"plugins\":{\"editoriallinks\":{\"pluginName\":\"editoriallinks\",\"label\":\"Related\",\"disabled\":false,\"gaEventData\":{\"category\":\"content edit\",\"action\":\"embedding\",\"label\":\"redactor-embed / related\"},\"ga4EventData\":{\"eventName\":\"embed_click\",\"params\":\"{\\\"embed_name\\\":\\\"editoriallinks\\\",\\\"market_name\\\":\\\"ELL-JP\\\"}\"}},\"compositelayout\":{\"pluginName\":\"compositelayout\",\"label\":\"Image\",\"gaEventData\":{\"category\":\"content edit\",\"action\":\"embedding\",\"label\":\"redactor-embed / image\"}},\"loop\":{\"pluginName\":\"loop\",\"label\":\"Loop\",\"disabled\":false,\"gaEventData\":{\"category\":\"content edit\",\"action\":\"embedding\",\"label\":\"redactor-embed / loop\"}},\"embeddedgallery\":{\"pluginName\":\"embeddedgallery\",\"label\":\"Gallery\",\"gaEventData\":{\"category\":\"content edit\",\"action\":\"embedding\",\"label\":\"redactor-embed / embedded-gallery\"}},\"horizontal-rule\":{\"pluginName\":\"horizontalrule\",\"label\":\"Line\",\"gaEventData\":{\"category\":\"content edit\",\"action\":\"embedding\",\"label\":\"redactor-embed / horizontal-rule\"}},\"poll\":{\"pluginName\":\"poll\",\"label\":\"Poll\",\"disabled\":false,\"gaEventData\":{\"category\":\"content edit\",\"action\":\"embedding\",\"label\":\"redactor-embed / poll\"}},\"product\":{\"disabled\":false,\"gaEventData\":{\"category\":\"content edit\",\"action\":\"embedding\",\"label\":\"redactor-embed / product\"},\"label\":\"商品\",\"pluginName\":\"product\"},\"pullquote\":{\"pluginName\":\"pullquote\",\"label\":\"Pullquote\",\"gaEventData\":{\"category\":\"content edit\",\"action\":\"embedding\",\"label\":\"redactor-embed / pullquote\"}},\"rating\":{\"pluginName\":\"rating\",\"label\":\"Rating\",\"disabled\":false,\"gaEventData\":{\"category\":\"content edit\",\"action\":\"embedding\",\"label\":\"redactor-embed / rating\"}},\"social\":{\"pluginName\":\"social\",\"label\":\"Social\",\"gaEventData\":{\"category\":\"content edit\",\"action\":\"embedding\",\"label\":\"redactor-embed / social\"}},\"specialchars\":{\"pluginName\":\"specialchars\",\"label\":\"Special Characters\",\"gaEventData\":{\"category\":\"content edit\",\"action\":\"embedding\",\"label\":\"redactor-embed / specialchars\"}},\"video\":{\"pluginName\":\"video\",\"label\":\"Video\",\"gaEventData\":{\"category\":\"content edit\",\"action\":\"embedding\",\"label\":\"redactor-embed / video\"}},\"playlist\":{\"pluginName\":\"playlist\",\"label\":\"Playlist\",\"gaEventData\":{\"category\":\"content edit\",\"action\":\"embedding\",\"label\":\"redactor-embed / playlist\"},\"disabled\":false}},\"supportedSocial\":{\"embeds\":[\"celtra\",\"electionhub\",\"excitem\",\"facebook\",\"fmslideshow\",\"fmuploader\",\"giphy\",\"instagram\",\"pinterest\",\"reddit\",\"talkShopLive\",\"tiktok\",\"twitter\",\"vimeo\",\"vine\",\"woobox\",\"youtube\"],\"links\":[\"electionhub-link\",\"facebook-link\",\"infogram\",\"instagram-link\",\"pinterest-link\",\"playbuzz-link\",\"spotify-link\",\"surveygizmo\",\"tiktok-link\",\"tumblr-link\",\"twitter-link\",\"youtube-link\"]},\"errors\":{\"social\":{\"noRules\":\"There are no embed rules defined.\",\"emptyEmbed\":\"You must provide a URL or an embed code, such as an iframe.\",\"noEndpoint\":\"We don't support the embed you've provided. Try an iframe instead.\",\"notHttpsCompliant\":\"The embed you've provided is not HTTPS compliant and cannot be used.\"},\"poll\":{\"emptyQuestion\":\"Question cannot be left blank\",\"emptyAnswer\":\"You must have two answers\"},\"editoriallinks\":{\"updateUnsucessful\":\"There was an error updating this Editorial Links. Please try again.\",\"statusCode\":{\"404\":\"Cannot find this editorial link record.\"}},\"accordion\":{\"updateUnsucessful\":\"There was an error updating this accordion. Please try again.\",\"statusCode\":{\"404\":\"Cannot find this accordion record.\"}},\"liveblogpost\":{\"updateUnsucessful\":\"There was an error updating this live blog post. Please try again.\",\"statusCode\":{\"404\":\"Cannot find this live blog post record\"}}}},\"imageSizes\":{\"defaultSizePreferences\":[\"medium\",\"small\",\"extrasmall\",\"large\",\"screenheight\"],\"defaultAlignmentPreferences\":[\"center\",\"left\",\"right\"],\"alignmentSizeRules\":{\"standard-article\":{\"0\":{\"left\":[\"small\"],\"right\":[\"small\"]},\"480\":{\"left\":[\"small\",\"medium\",\"large\"],\"center\":[\"extrasmall\"],\"right\":[\"small\",\"medium\",\"large\"]},\"640\":{\"left\":[\"small\",\"medium\",\"large\"],\"center\":[\"extrasmall\",\"small\"],\"right\":[\"small\",\"medium\",\"large\"]},\"768\":{\"left\":[\"small\",\"medium\",\"large\"],\"center\":[\"extrasmall\",\"small\",\"medium\"],\"right\":[\"small\",\"medium\",\"large\"]},\"980\":{\"left\":[\"small\",\"medium\",\"large\"],\"center\":[\"extrasmall\",\"small\",\"medium\",\"large\",\"screenheight\"],\"right\":[\"small\",\"medium\",\"large\"]}},\"external\":{\"0\":{\"left\":[\"small\"],\"right\":[\"small\"]},\"480\":{\"left\":[\"small\",\"medium\",\"large\"],\"center\":[\"extrasmall\"],\"right\":[\"small\",\"medium\",\"large\"]},\"640\":{\"left\":[\"small\",\"medium\",\"large\"],\"center\":[\"extrasmall\",\"small\"],\"right\":[\"small\",\"medium\",\"large\"]},\"768\":{\"left\":[\"small\",\"medium\",\"large\"],\"center\":[\"extrasmall\",\"small\",\"medium\"],\"right\":[\"small\",\"medium\",\"large\"]},\"980\":{\"left\":[\"small\",\"medium\",\"large\"],\"center\":[\"extrasmall\",\"small\",\"medium\",\"large\",\"screenheight\"],\"right\":[\"small\",\"medium\",\"large\"]}},\"long-form-article\":{\"0\":{\"left\":[\"small\"],\"right\":[\"small\"]},\"480\":{\"left\":[\"small\",\"medium\",\"large\"],\"center\":[\"extrasmall\"],\"right\":[\"small\",\"medium\",\"large\"]},\"768\":{\"left\":[\"small\",\"medium\",\"large\"],\"center\":[\"extrasmall\",\"small\"],\"right\":[\"small\",\"medium\",\"large\"]},\"980\":{\"left\":[\"small\",\"medium\",\"large\"],\"center\":[\"extrasmall\",\"small\",\"medium\"],\"right\":[\"small\",\"medium\",\"large\"]},\"1120\":{\"left\":[\"small\",\"medium\",\"large\"],\"center\":[\"extrasmall\",\"small\",\"medium\",\"screenheight\"],\"right\":[\"small\",\"medium\",\"large\"]},\"2048\":{\"left\":[\"small\",\"medium\",\"large\"],\"center\":[\"extrasmall\",\"small\",\"medium\",\"large\",\"screenheight\"],\"right\":[\"small\",\"medium\",\"large\"]}},\"review-article\":{\"0\":{\"left\":[\"small\"],\"right\":[\"small\"]},\"480\":{\"left\":[\"small\",\"medium\",\"large\"],\"center\":[\"extrasmall\"],\"right\":[\"small\",\"medium\",\"large\"]},\"768\":{\"left\":[\"small\",\"medium\",\"large\"],\"center\":[\"extrasmall\",\"small\"],\"right\":[\"small\",\"medium\",\"large\"]},\"980\":{\"left\":[\"small\",\"medium\",\"large\"],\"center\":[\"extrasmall\",\"small\",\"medium\"],\"right\":[\"small\",\"medium\",\"large\"]},\"1120\":{\"left\":[\"small\",\"medium\",\"large\"],\"center\":[\"extrasmall\",\"small\",\"medium\",\"screenheight\"],\"right\":[\"small\",\"medium\",\"large\"]},\"2048\":{\"left\":[\"small\",\"medium\",\"large\"],\"center\":[\"extrasmall\",\"small\",\"medium\",\"large\",\"screenheight\"],\"right\":[\"small\",\"medium\",\"large\"]}},\"auction-listing\":{\"0\":{\"left\":[\"small\"],\"right\":[\"small\"]},\"480\":{\"left\":[\"small\",\"medium\",\"large\"],\"center\":[\"extrasmall\"],\"right\":[\"small\",\"medium\",\"large\"]},\"640\":{\"left\":[\"small\",\"medium\",\"large\"],\"center\":[\"extrasmall\",\"small\"],\"right\":[\"small\",\"medium\",\"large\"]},\"768\":{\"left\":[\"small\",\"medium\",\"large\"],\"center\":[\"extrasmall\",\"small\",\"medium\"],\"right\":[\"small\",\"medium\",\"large\"]},\"980\":{\"left\":[\"small\",\"medium\",\"large\"],\"center\":[\"extrasmall\",\"small\",\"medium\",\"large\",\"screenheight\"],\"right\":[\"small\",\"medium\",\"large\"]}}}},\"videoDataOptions\":{\"lede\":{\"youtube\":true},\"gallery\":{\"youtube\":\"false\"},\"body\":{\"youtube\":\"false\",\"standard-article\":{\"left\":[\"large\"],\"center\":[\"small\",\"large\"],\"right\":[\"large\"]},\"external\":{\"left\":[\"large\"],\"center\":[\"small\",\"large\"],\"right\":[\"large\"]},\"long-form-article\":{\"left\":[\"small\",\"large\"],\"center\":[\"small\",\"medium\",\"large\"],\"right\":[\"small\",\"large\"]},\"review-article\":{\"left\":[\"small\",\"large\"],\"center\":[\"small\",\"medium\",\"large\"],\"right\":[\"small\",\"large\"]},\"auction-listing\":{\"left\":[\"small\",\"large\"],\"center\":[\"small\",\"medium\",\"large\"],\"right\":[\"small\",\"large\"]}}}};</script>\n",
      "\t\t</body>\n",
      "\t</html>\n",
      "\n",
      "\n"
     ]
    }
   ],
   "source": [
    "import requests\n",
    "\n",
    "# API endpoint\n",
    "url = \"https://edit-elle.stage.hearstapps.net/jp/content/edit/f7423995-fa60-405c-84ee-7d4457ccf0bf\"\n",
    "\n",
    "# Optional: set headers if needed (e.g., for authorization)\n",
    "headers = {\n",
    "    # \"Authorization\": \"Bearer YOUR_ACCESS_TOKEN\",  # Uncomment and insert your token if needed\n",
    "    \"Accept\": \"application/json\"\n",
    "}\n",
    "\n",
    "# Send the GET request\n",
    "response = requests.get(url, headers=headers)\n",
    "\n",
    "# Check if the request was successful\n",
    "if response.status_code == 200:\n",
    "    # Parse the response as JSON\n",
    "    data = response.json()\n",
    "    print(\"Response data:\")\n",
    "    print(data)\n",
    "else:\n",
    "    print(f\"Request failed with status code {response.status_code}\")\n",
    "    print(\"Response content:\")\n",
    "    print(response.text)"
   ]
  },
  {
   "cell_type": "code",
   "execution_count": 5,
   "id": "f789e4cf",
   "metadata": {},
   "outputs": [],
   "source": [
    "import pandas as pd\n",
    "import json"
   ]
  },
  {
   "cell_type": "code",
   "execution_count": 7,
   "id": "70c6db95",
   "metadata": {},
   "outputs": [
    {
     "name": "stdout",
     "output_type": "stream",
     "text": [
      "  site_prefix section_slug                                    id  slide_no  \\\n",
      "0      ELL-JP      gourmet  a7d640ad-4f66-4e65-af78-a2362296958d         5   \n",
      "1      ELL-JP      gourmet  994af34b-08b5-4b92-a57e-4e79e18e04ea        21   \n",
      "2      ELL-JP      gourmet  994af34b-08b5-4b92-a57e-4e79e18e04ea        22   \n",
      "\n",
      "                                                 dek  \n",
      "0  <p class=\"__auto-inserted-br__\"><br><br><br><b...  \n",
      "1  <p><a href=\"http://www.elle.com/jp/gourmet/gou...  \n",
      "2  <p><a href=\"https://www.elle.com/jp/gourmet/g2...  \n"
     ]
    }
   ],
   "source": [
    "import os\n",
    "import pandas as pd\n",
    "from pathlib import Path\n",
    "\n",
    "\n",
    "def read_and_concat_csvs(root_dir):\n",
    "    # Use pathlib for recursive glob\n",
    "    root_path = Path(root_dir)\n",
    "    csv_files = list(root_path.rglob(\"batch_output_*.csv\"))\n",
    "\n",
    "    # Read and concatenate CSVs\n",
    "    dataframes = []\n",
    "    for file in csv_files:\n",
    "        try:\n",
    "            df = pd.read_csv(file)\n",
    "            dataframes.append(df)\n",
    "        except Exception as e:\n",
    "            print(f\"Failed to read {file}: {e}\")\n",
    "\n",
    "    if dataframes:\n",
    "        combined_df = pd.concat(dataframes, ignore_index=True)\n",
    "        return combined_df\n",
    "    else:\n",
    "        print(\"No matching CSV files found.\")\n",
    "        return None\n",
    "\n",
    "\n",
    "# Example usage\n",
    "root_folder = \"./outputs\"\n",
    "result_df = read_and_concat_csvs(root_folder)\n",
    "result_df.to_csv(\"output_202507141400.csv\", index=False)\n",
    "\n",
    "if result_df is not None:\n",
    "    print(result_df.head(3))"
   ]
  },
  {
   "cell_type": "code",
   "execution_count": 6,
   "id": "b6c1d302",
   "metadata": {},
   "outputs": [
    {
     "name": "stdout",
     "output_type": "stream",
     "text": [
      "11390\n",
      "8031\n",
      "15021\n",
      "9934\n",
      "9948\n",
      "11215\n",
      "11449\n",
      "2039\n",
      "12710\n",
      "10718\n",
      "15818\n",
      "7941\n",
      "14638\n",
      "18627\n",
      "11857\n",
      "8754\n"
     ]
    }
   ],
   "source": [
    "root_path = Path('./outputs')\n",
    "csv_files = list(root_path.rglob(\"batch_output_*.csv\"))\n",
    "\n",
    "# Read and concatenate CSVs\n",
    "dataframes = []\n",
    "for file in csv_files:\n",
    "    try:\n",
    "        df = pd.read_csv(file)\n",
    "        print(df.shape[0])\n",
    "    except Exception as e:\n",
    "        print(f\"Failed to read {file}: {e}\")"
   ]
  },
  {
   "cell_type": "code",
   "execution_count": 5,
   "id": "257a084d",
   "metadata": {},
   "outputs": [
    {
     "name": "stdout",
     "output_type": "stream",
     "text": [
      "11515\n",
      "8031\n",
      "15076\n",
      "9705\n",
      "9816\n",
      "11013\n",
      "11499\n",
      "2081\n",
      "12762\n",
      "10777\n",
      "15918\n",
      "7941\n",
      "14651\n",
      "18634\n",
      "11859\n",
      "8761\n"
     ]
    }
   ],
   "source": [
    "root_path = Path('./temp_batch')\n",
    "csv_files = list(root_path.rglob(\"batch_output_*.csv\"))\n",
    "\n",
    "# Read and concatenate CSVs\n",
    "dataframes = []\n",
    "for file in csv_files:\n",
    "    try:\n",
    "        df = pd.read_csv(file)\n",
    "        print(df.shape[0])\n",
    "    except Exception as e:\n",
    "        print(f\"Failed to read {file}: {e}\")"
   ]
  },
  {
   "cell_type": "code",
   "execution_count": 8,
   "id": "d1d4f749",
   "metadata": {},
   "outputs": [
    {
     "name": "stdout",
     "output_type": "stream",
     "text": [
      "(180039, 5) (180090, 5)\n"
     ]
    }
   ],
   "source": [
    "old = pd.read_csv('output_202507141400_latest.csv')\n",
    "new = pd.read_csv('output_202507141400.csv')\n",
    "print(old.shape,new.shape)"
   ]
  },
  {
   "cell_type": "code",
   "execution_count": 23,
   "id": "1c6c4440",
   "metadata": {},
   "outputs": [],
   "source": [
    "def get_target_info(str_info):\n",
    "    slides_info = json.loads(str_info)\n",
    "    result = []\n",
    "    for item in slides_info:\n",
    "        total = int(item['total'])\n",
    "        if total < 640:\n",
    "            slide_id = item['id']\n",
    "            index = int(slide_id[6:])\n",
    "            result.append({'index':index,'diff':740 - total})\n",
    "    return result   "
   ]
  },
  {
   "cell_type": "code",
   "execution_count": 6,
   "id": "707d6506",
   "metadata": {},
   "outputs": [
    {
     "data": {
      "text/html": [
       "<div>\n",
       "<style scoped>\n",
       "    .dataframe tbody tr th:only-of-type {\n",
       "        vertical-align: middle;\n",
       "    }\n",
       "\n",
       "    .dataframe tbody tr th {\n",
       "        vertical-align: top;\n",
       "    }\n",
       "\n",
       "    .dataframe thead th {\n",
       "        text-align: right;\n",
       "    }\n",
       "</style>\n",
       "<table border=\"1\" class=\"dataframe\">\n",
       "  <thead>\n",
       "    <tr style=\"text-align: right;\">\n",
       "      <th></th>\n",
       "      <th>site_prefix</th>\n",
       "      <th>section_slug</th>\n",
       "      <th>id</th>\n",
       "      <th>slide_no</th>\n",
       "      <th>dek</th>\n",
       "    </tr>\n",
       "  </thead>\n",
       "  <tbody>\n",
       "    <tr>\n",
       "      <th>10324</th>\n",
       "      <td>ESQ-JP</td>\n",
       "      <td>fashion</td>\n",
       "      <td>ee00dcf2-5db0-49eb-a0d0-91159604f711</td>\n",
       "      <td>5</td>\n",
       "      <td>&lt;p&gt;\\r\\n 　ボンバージャケットは全7種、ブラック、ネイビー、グレイ、カーキ、ブラウン、...</td>\n",
       "    </tr>\n",
       "  </tbody>\n",
       "</table>\n",
       "</div>"
      ],
      "text/plain": [
       "      site_prefix section_slug                                    id  \\\n",
       "10324      ESQ-JP      fashion  ee00dcf2-5db0-49eb-a0d0-91159604f711   \n",
       "\n",
       "       slide_no                                                dek  \n",
       "10324         5  <p>\\r\\n 　ボンバージャケットは全7種、ブラック、ネイビー、グレイ、カーキ、ブラウン、...  "
      ]
     },
     "execution_count": 6,
     "metadata": {},
     "output_type": "execute_result"
    }
   ],
   "source": [
    "import pandas as pd\n",
    "test = pd.read_csv('batch_output_8.csv', encoding='utf8')\n",
    "temp = test[(test['id'] == 'ee00dcf2-5db0-49eb-a0d0-91159604f711') & (test['slide_no'] == 5)]\n",
    "temp"
   ]
  },
  {
   "cell_type": "code",
   "execution_count": 25,
   "id": "7ca18a73",
   "metadata": {},
   "outputs": [
    {
     "data": {
      "text/plain": [
       "(23504, 5)"
      ]
     },
     "execution_count": 25,
     "metadata": {},
     "output_type": "execute_result"
    }
   ],
   "source": [
    "df_fix_target = df_overlap[df_overlap['target'].apply(lambda x: x != [])]\n",
    "df_fix_target.shape"
   ]
  },
  {
   "cell_type": "code",
   "execution_count": 27,
   "id": "34a2ce95",
   "metadata": {},
   "outputs": [
    {
     "data": {
      "text/plain": [
       "0    [{'index': 2, 'diff': 322}, {'index': 3, 'diff...\n",
       "1    [{'index': 1, 'diff': 198}, {'index': 7, 'diff...\n",
       "4    [{'index': 8, 'diff': 266}, {'index': 9, 'diff...\n",
       "5    [{'index': 2, 'diff': 499}, {'index': 4, 'diff...\n",
       "7    [{'index': 1, 'diff': 105}, {'index': 4, 'diff...\n",
       "Name: target, dtype: object"
      ]
     },
     "execution_count": 27,
     "metadata": {},
     "output_type": "execute_result"
    }
   ],
   "source": [
    "df_fix_target['target'].head(5)"
   ]
  },
  {
   "cell_type": "code",
   "execution_count": 3,
   "id": "89fb6343",
   "metadata": {},
   "outputs": [
    {
     "data": {
      "text/plain": [
       "(75215, 2)"
      ]
     },
     "execution_count": 3,
     "metadata": {},
     "output_type": "execute_result"
    }
   ],
   "source": [
    "df_latest = pd.read_csv('csvs/mos_latest.csv')\n",
    "df_latest.shape"
   ]
  },
  {
   "cell_type": "code",
   "execution_count": 5,
   "id": "f72b6693",
   "metadata": {},
   "outputs": [
    {
     "data": {
      "text/plain": [
       "(74284, 2)"
      ]
     },
     "execution_count": 5,
     "metadata": {},
     "output_type": "execute_result"
    }
   ],
   "source": [
    "df_old = pd.read_csv('csvs/mos_ori.csv')\n",
    "df_old.shape"
   ]
  },
  {
   "cell_type": "code",
   "execution_count": 6,
   "id": "ee693687",
   "metadata": {},
   "outputs": [
    {
     "data": {
      "text/plain": [
       "(980, 2)"
      ]
     },
     "execution_count": 6,
     "metadata": {},
     "output_type": "execute_result"
    }
   ],
   "source": [
    "df_diff = df_latest[~df_latest['id'].isin(df_old['id'])]\n",
    "df_diff.shape"
   ]
  },
  {
   "cell_type": "code",
   "execution_count": 9,
   "id": "70da6320",
   "metadata": {},
   "outputs": [],
   "source": [
    "df_diff.to_csv('mos.csv',index=False)"
   ]
  },
  {
   "cell_type": "code",
   "execution_count": 10,
   "id": "e4b90c6f",
   "metadata": {},
   "outputs": [
    {
     "data": {
      "text/plain": [
       "(686, 4)"
      ]
     },
     "execution_count": 10,
     "metadata": {},
     "output_type": "execute_result"
    }
   ],
   "source": [
    "df_output = pd.read_csv('output.csv')\n",
    "df_overlap = df_output[df_output['isShown'] == 1]\n",
    "df_overlap.shape"
   ]
  },
  {
   "cell_type": "code",
   "execution_count": 11,
   "id": "6255f726",
   "metadata": {},
   "outputs": [],
   "source": [
    "df_overlap.to_csv('csvs/latest_overlap.csv',index=False)"
   ]
  },
  {
   "cell_type": "code",
   "execution_count": 18,
   "id": "6c42cf34",
   "metadata": {},
   "outputs": [
    {
     "data": {
      "text/html": [
       "<div>\n",
       "<style scoped>\n",
       "    .dataframe tbody tr th:only-of-type {\n",
       "        vertical-align: middle;\n",
       "    }\n",
       "\n",
       "    .dataframe tbody tr th {\n",
       "        vertical-align: top;\n",
       "    }\n",
       "\n",
       "    .dataframe thead th {\n",
       "        text-align: right;\n",
       "    }\n",
       "</style>\n",
       "<table border=\"1\" class=\"dataframe\">\n",
       "  <thead>\n",
       "    <tr style=\"text-align: right;\">\n",
       "      <th></th>\n",
       "      <th>id</th>\n",
       "      <th>url</th>\n",
       "      <th>slide_index</th>\n",
       "      <th>total</th>\n",
       "      <th>span</th>\n",
       "      <th>h2</th>\n",
       "      <th>description</th>\n",
       "      <th>diff</th>\n",
       "    </tr>\n",
       "  </thead>\n",
       "  <tbody>\n",
       "    <tr>\n",
       "      <th>0</th>\n",
       "      <td>6ebaba86-9c57-4842-a82b-db08fbb283f2</td>\n",
       "      <td>https://www.elle.com/jp/culture/celebgossip/g4...</td>\n",
       "      <td>2</td>\n",
       "      <td>418.300018</td>\n",
       "      <td>15.0</td>\n",
       "      <td>0.0</td>\n",
       "      <td>108.800003</td>\n",
       "      <td>221</td>\n",
       "    </tr>\n",
       "    <tr>\n",
       "      <th>1</th>\n",
       "      <td>6ebaba86-9c57-4842-a82b-db08fbb283f2</td>\n",
       "      <td>https://www.elle.com/jp/culture/celebgossip/g4...</td>\n",
       "      <td>3</td>\n",
       "      <td>324.524994</td>\n",
       "      <td>15.0</td>\n",
       "      <td>0.0</td>\n",
       "      <td>83.200005</td>\n",
       "      <td>315</td>\n",
       "    </tr>\n",
       "    <tr>\n",
       "      <th>2</th>\n",
       "      <td>6ebaba86-9c57-4842-a82b-db08fbb283f2</td>\n",
       "      <td>https://www.elle.com/jp/culture/celebgossip/g4...</td>\n",
       "      <td>5</td>\n",
       "      <td>324.524994</td>\n",
       "      <td>15.0</td>\n",
       "      <td>0.0</td>\n",
       "      <td>83.200005</td>\n",
       "      <td>315</td>\n",
       "    </tr>\n",
       "    <tr>\n",
       "      <th>3</th>\n",
       "      <td>6ebaba86-9c57-4842-a82b-db08fbb283f2</td>\n",
       "      <td>https://www.elle.com/jp/culture/celebgossip/g4...</td>\n",
       "      <td>7</td>\n",
       "      <td>324.524994</td>\n",
       "      <td>15.0</td>\n",
       "      <td>0.0</td>\n",
       "      <td>83.200005</td>\n",
       "      <td>315</td>\n",
       "    </tr>\n",
       "    <tr>\n",
       "      <th>4</th>\n",
       "      <td>6ebaba86-9c57-4842-a82b-db08fbb283f2</td>\n",
       "      <td>https://www.elle.com/jp/culture/celebgossip/g4...</td>\n",
       "      <td>9</td>\n",
       "      <td>298.925018</td>\n",
       "      <td>15.0</td>\n",
       "      <td>0.0</td>\n",
       "      <td>57.600002</td>\n",
       "      <td>341</td>\n",
       "    </tr>\n",
       "    <tr>\n",
       "      <th>5</th>\n",
       "      <td>6ebaba86-9c57-4842-a82b-db08fbb283f2</td>\n",
       "      <td>https://www.elle.com/jp/culture/celebgossip/g4...</td>\n",
       "      <td>10</td>\n",
       "      <td>375.725006</td>\n",
       "      <td>15.0</td>\n",
       "      <td>0.0</td>\n",
       "      <td>134.400009</td>\n",
       "      <td>264</td>\n",
       "    </tr>\n",
       "    <tr>\n",
       "      <th>6</th>\n",
       "      <td>6ebaba86-9c57-4842-a82b-db08fbb283f2</td>\n",
       "      <td>https://www.elle.com/jp/culture/celebgossip/g4...</td>\n",
       "      <td>12</td>\n",
       "      <td>350.125000</td>\n",
       "      <td>15.0</td>\n",
       "      <td>0.0</td>\n",
       "      <td>108.800003</td>\n",
       "      <td>289</td>\n",
       "    </tr>\n",
       "    <tr>\n",
       "      <th>7</th>\n",
       "      <td>6ebaba86-9c57-4842-a82b-db08fbb283f2</td>\n",
       "      <td>https://www.elle.com/jp/culture/celebgossip/g4...</td>\n",
       "      <td>14</td>\n",
       "      <td>350.125000</td>\n",
       "      <td>15.0</td>\n",
       "      <td>0.0</td>\n",
       "      <td>108.800003</td>\n",
       "      <td>289</td>\n",
       "    </tr>\n",
       "    <tr>\n",
       "      <th>8</th>\n",
       "      <td>6ebaba86-9c57-4842-a82b-db08fbb283f2</td>\n",
       "      <td>https://www.elle.com/jp/culture/celebgossip/g4...</td>\n",
       "      <td>16</td>\n",
       "      <td>324.524994</td>\n",
       "      <td>15.0</td>\n",
       "      <td>0.0</td>\n",
       "      <td>83.200005</td>\n",
       "      <td>315</td>\n",
       "    </tr>\n",
       "    <tr>\n",
       "      <th>9</th>\n",
       "      <td>6ebaba86-9c57-4842-a82b-db08fbb283f2</td>\n",
       "      <td>https://www.elle.com/jp/culture/celebgossip/g4...</td>\n",
       "      <td>17</td>\n",
       "      <td>350.125000</td>\n",
       "      <td>15.0</td>\n",
       "      <td>0.0</td>\n",
       "      <td>108.800003</td>\n",
       "      <td>289</td>\n",
       "    </tr>\n",
       "  </tbody>\n",
       "</table>\n",
       "</div>"
      ],
      "text/plain": [
       "                                     id  \\\n",
       "0  6ebaba86-9c57-4842-a82b-db08fbb283f2   \n",
       "1  6ebaba86-9c57-4842-a82b-db08fbb283f2   \n",
       "2  6ebaba86-9c57-4842-a82b-db08fbb283f2   \n",
       "3  6ebaba86-9c57-4842-a82b-db08fbb283f2   \n",
       "4  6ebaba86-9c57-4842-a82b-db08fbb283f2   \n",
       "5  6ebaba86-9c57-4842-a82b-db08fbb283f2   \n",
       "6  6ebaba86-9c57-4842-a82b-db08fbb283f2   \n",
       "7  6ebaba86-9c57-4842-a82b-db08fbb283f2   \n",
       "8  6ebaba86-9c57-4842-a82b-db08fbb283f2   \n",
       "9  6ebaba86-9c57-4842-a82b-db08fbb283f2   \n",
       "\n",
       "                                                 url  slide_index       total  \\\n",
       "0  https://www.elle.com/jp/culture/celebgossip/g4...            2  418.300018   \n",
       "1  https://www.elle.com/jp/culture/celebgossip/g4...            3  324.524994   \n",
       "2  https://www.elle.com/jp/culture/celebgossip/g4...            5  324.524994   \n",
       "3  https://www.elle.com/jp/culture/celebgossip/g4...            7  324.524994   \n",
       "4  https://www.elle.com/jp/culture/celebgossip/g4...            9  298.925018   \n",
       "5  https://www.elle.com/jp/culture/celebgossip/g4...           10  375.725006   \n",
       "6  https://www.elle.com/jp/culture/celebgossip/g4...           12  350.125000   \n",
       "7  https://www.elle.com/jp/culture/celebgossip/g4...           14  350.125000   \n",
       "8  https://www.elle.com/jp/culture/celebgossip/g4...           16  324.524994   \n",
       "9  https://www.elle.com/jp/culture/celebgossip/g4...           17  350.125000   \n",
       "\n",
       "   span   h2  description  diff  \n",
       "0  15.0  0.0   108.800003   221  \n",
       "1  15.0  0.0    83.200005   315  \n",
       "2  15.0  0.0    83.200005   315  \n",
       "3  15.0  0.0    83.200005   315  \n",
       "4  15.0  0.0    57.600002   341  \n",
       "5  15.0  0.0   134.400009   264  \n",
       "6  15.0  0.0   108.800003   289  \n",
       "7  15.0  0.0   108.800003   289  \n",
       "8  15.0  0.0    83.200005   315  \n",
       "9  15.0  0.0   108.800003   289  "
      ]
     },
     "execution_count": 18,
     "metadata": {},
     "output_type": "execute_result"
    }
   ],
   "source": [
    "import pandas as pd\n",
    "import json\n",
    "import re\n",
    "\n",
    "# Load CSV\n",
    "df = pd.read_csv(\"csvs/out_final.csv\")\n",
    "df_overlap = df[df['isShown'] == 1]\n",
    "\n",
    "# Prepare a list to collect results\n",
    "expanded_rows = []\n",
    "\n",
    "# Iterate through each row\n",
    "for _, row in df_overlap.iterrows():\n",
    "    item_id = row[\"id\"]\n",
    "    url = row[\"url\"]\n",
    "    info = row['info']\n",
    "    if pd.isna(info):\n",
    "        continue  # skip \n",
    "    # Parse the 'info' JSON string safely\n",
    "    try:\n",
    "        slides = json.loads(info)\n",
    "    except json.JSONDecodeError:\n",
    "        continue  # skip if JSON is invalid\n",
    "\n",
    "    for slide in slides:\n",
    "        total = slide.get(\"total\", 0)\n",
    "        match = re.search(r\"slide-(\\d+)\", slide.get(\"id\", \"\"))\n",
    "        slide_index = int(match.group(1)) if match else None\n",
    "        if total < 640:\n",
    "            expanded_rows.append(\n",
    "                {\n",
    "                    \"id\": item_id,\n",
    "                    \"url\": url,\n",
    "                    \"slide_index\": slide_index,\n",
    "                    \"total\": slide.get(\"total\"),\n",
    "                    \"span\": slide.get(\"span\"),\n",
    "                    \"h2\": slide.get(\"h2\"),\n",
    "                    \"description\": slide.get(\"description\"),\n",
    "                    \"diff\":int(640 - total)\n",
    "                }\n",
    "            )\n",
    "\n",
    "# Create the expanded DataFrame\n",
    "expanded_df = pd.DataFrame(expanded_rows)\n",
    "\n",
    "expanded_df.head(10)"
   ]
  },
  {
   "cell_type": "code",
   "execution_count": 19,
   "id": "e3dff1ac",
   "metadata": {},
   "outputs": [],
   "source": [
    "expanded_df.to_csv('expanded_overlapping.csv',index=False)"
   ]
  },
  {
   "cell_type": "code",
   "execution_count": 4,
   "id": "f8ebc935",
   "metadata": {},
   "outputs": [
    {
     "data": {
      "text/plain": [
       "(151841, 8)"
      ]
     },
     "execution_count": 4,
     "metadata": {},
     "output_type": "execute_result"
    }
   ],
   "source": [
    "df_zero = pd.read_csv('expanded_overlapping.csv')\n",
    "df_zero[df_zero['description'] == 0].shape"
   ]
  },
  {
   "cell_type": "code",
   "execution_count": 6,
   "id": "87f5ef4f",
   "metadata": {},
   "outputs": [
    {
     "data": {
      "text/html": [
       "<div>\n",
       "<style scoped>\n",
       "    .dataframe tbody tr th:only-of-type {\n",
       "        vertical-align: middle;\n",
       "    }\n",
       "\n",
       "    .dataframe tbody tr th {\n",
       "        vertical-align: top;\n",
       "    }\n",
       "\n",
       "    .dataframe thead th {\n",
       "        text-align: right;\n",
       "    }\n",
       "</style>\n",
       "<table border=\"1\" class=\"dataframe\">\n",
       "  <thead>\n",
       "    <tr style=\"text-align: right;\">\n",
       "      <th></th>\n",
       "      <th>id</th>\n",
       "      <th>url</th>\n",
       "      <th>slide_index</th>\n",
       "      <th>total</th>\n",
       "      <th>span</th>\n",
       "      <th>h2</th>\n",
       "      <th>description</th>\n",
       "      <th>diff</th>\n",
       "    </tr>\n",
       "  </thead>\n",
       "  <tbody>\n",
       "    <tr>\n",
       "      <th>0</th>\n",
       "      <td>6ebaba86-9c57-4842-a82b-db08fbb283f2</td>\n",
       "      <td>https://www.elle.com/jp/culture/celebgossip/g4...</td>\n",
       "      <td>2</td>\n",
       "      <td>418.300018</td>\n",
       "      <td>15.0</td>\n",
       "      <td>0.000000</td>\n",
       "      <td>108.800003</td>\n",
       "      <td>221</td>\n",
       "    </tr>\n",
       "    <tr>\n",
       "      <th>1</th>\n",
       "      <td>6ebaba86-9c57-4842-a82b-db08fbb283f2</td>\n",
       "      <td>https://www.elle.com/jp/culture/celebgossip/g4...</td>\n",
       "      <td>3</td>\n",
       "      <td>324.524994</td>\n",
       "      <td>15.0</td>\n",
       "      <td>0.000000</td>\n",
       "      <td>83.200005</td>\n",
       "      <td>315</td>\n",
       "    </tr>\n",
       "    <tr>\n",
       "      <th>2</th>\n",
       "      <td>6ebaba86-9c57-4842-a82b-db08fbb283f2</td>\n",
       "      <td>https://www.elle.com/jp/culture/celebgossip/g4...</td>\n",
       "      <td>5</td>\n",
       "      <td>324.524994</td>\n",
       "      <td>15.0</td>\n",
       "      <td>0.000000</td>\n",
       "      <td>83.200005</td>\n",
       "      <td>315</td>\n",
       "    </tr>\n",
       "    <tr>\n",
       "      <th>3</th>\n",
       "      <td>6ebaba86-9c57-4842-a82b-db08fbb283f2</td>\n",
       "      <td>https://www.elle.com/jp/culture/celebgossip/g4...</td>\n",
       "      <td>7</td>\n",
       "      <td>324.524994</td>\n",
       "      <td>15.0</td>\n",
       "      <td>0.000000</td>\n",
       "      <td>83.200005</td>\n",
       "      <td>315</td>\n",
       "    </tr>\n",
       "    <tr>\n",
       "      <th>4</th>\n",
       "      <td>6ebaba86-9c57-4842-a82b-db08fbb283f2</td>\n",
       "      <td>https://www.elle.com/jp/culture/celebgossip/g4...</td>\n",
       "      <td>9</td>\n",
       "      <td>298.925018</td>\n",
       "      <td>15.0</td>\n",
       "      <td>0.000000</td>\n",
       "      <td>57.600002</td>\n",
       "      <td>341</td>\n",
       "    </tr>\n",
       "    <tr>\n",
       "      <th>5</th>\n",
       "      <td>6ebaba86-9c57-4842-a82b-db08fbb283f2</td>\n",
       "      <td>https://www.elle.com/jp/culture/celebgossip/g4...</td>\n",
       "      <td>10</td>\n",
       "      <td>375.725006</td>\n",
       "      <td>15.0</td>\n",
       "      <td>0.000000</td>\n",
       "      <td>134.400009</td>\n",
       "      <td>264</td>\n",
       "    </tr>\n",
       "    <tr>\n",
       "      <th>6</th>\n",
       "      <td>6ebaba86-9c57-4842-a82b-db08fbb283f2</td>\n",
       "      <td>https://www.elle.com/jp/culture/celebgossip/g4...</td>\n",
       "      <td>12</td>\n",
       "      <td>350.125000</td>\n",
       "      <td>15.0</td>\n",
       "      <td>0.000000</td>\n",
       "      <td>108.800003</td>\n",
       "      <td>289</td>\n",
       "    </tr>\n",
       "    <tr>\n",
       "      <th>7</th>\n",
       "      <td>6ebaba86-9c57-4842-a82b-db08fbb283f2</td>\n",
       "      <td>https://www.elle.com/jp/culture/celebgossip/g4...</td>\n",
       "      <td>14</td>\n",
       "      <td>350.125000</td>\n",
       "      <td>15.0</td>\n",
       "      <td>0.000000</td>\n",
       "      <td>108.800003</td>\n",
       "      <td>289</td>\n",
       "    </tr>\n",
       "    <tr>\n",
       "      <th>8</th>\n",
       "      <td>6ebaba86-9c57-4842-a82b-db08fbb283f2</td>\n",
       "      <td>https://www.elle.com/jp/culture/celebgossip/g4...</td>\n",
       "      <td>16</td>\n",
       "      <td>324.524994</td>\n",
       "      <td>15.0</td>\n",
       "      <td>0.000000</td>\n",
       "      <td>83.200005</td>\n",
       "      <td>315</td>\n",
       "    </tr>\n",
       "    <tr>\n",
       "      <th>9</th>\n",
       "      <td>6ebaba86-9c57-4842-a82b-db08fbb283f2</td>\n",
       "      <td>https://www.elle.com/jp/culture/celebgossip/g4...</td>\n",
       "      <td>17</td>\n",
       "      <td>350.125000</td>\n",
       "      <td>15.0</td>\n",
       "      <td>0.000000</td>\n",
       "      <td>108.800003</td>\n",
       "      <td>289</td>\n",
       "    </tr>\n",
       "    <tr>\n",
       "      <th>10</th>\n",
       "      <td>5ed5e05c-7010-4596-afec-1c409fb20d64</td>\n",
       "      <td>https://www.elle.com/jp/decor/decor-interior-d...</td>\n",
       "      <td>1</td>\n",
       "      <td>542.100037</td>\n",
       "      <td>13.6</td>\n",
       "      <td>0.000000</td>\n",
       "      <td>288.000000</td>\n",
       "      <td>97</td>\n",
       "    </tr>\n",
       "    <tr>\n",
       "      <th>11</th>\n",
       "      <td>5ed5e05c-7010-4596-afec-1c409fb20d64</td>\n",
       "      <td>https://www.elle.com/jp/decor/decor-interior-d...</td>\n",
       "      <td>7</td>\n",
       "      <td>559.475037</td>\n",
       "      <td>13.6</td>\n",
       "      <td>0.000000</td>\n",
       "      <td>262.399994</td>\n",
       "      <td>80</td>\n",
       "    </tr>\n",
       "    <tr>\n",
       "      <th>12</th>\n",
       "      <td>5ed5e05c-7010-4596-afec-1c409fb20d64</td>\n",
       "      <td>https://www.elle.com/jp/decor/decor-interior-d...</td>\n",
       "      <td>8</td>\n",
       "      <td>619.450012</td>\n",
       "      <td>13.6</td>\n",
       "      <td>0.000000</td>\n",
       "      <td>329.600006</td>\n",
       "      <td>20</td>\n",
       "    </tr>\n",
       "    <tr>\n",
       "      <th>13</th>\n",
       "      <td>5ed5e05c-7010-4596-afec-1c409fb20d64</td>\n",
       "      <td>https://www.elle.com/jp/decor/decor-interior-d...</td>\n",
       "      <td>11</td>\n",
       "      <td>379.399994</td>\n",
       "      <td>13.6</td>\n",
       "      <td>31.200001</td>\n",
       "      <td>104.400002</td>\n",
       "      <td>260</td>\n",
       "    </tr>\n",
       "    <tr>\n",
       "      <th>14</th>\n",
       "      <td>da7eed95-8606-43dc-8e27-5980bb72054f</td>\n",
       "      <td>https://www.elle.com/jp/culture/celebphotos/g4...</td>\n",
       "      <td>8</td>\n",
       "      <td>474.862518</td>\n",
       "      <td>13.6</td>\n",
       "      <td>31.200001</td>\n",
       "      <td>134.400009</td>\n",
       "      <td>165</td>\n",
       "    </tr>\n",
       "    <tr>\n",
       "      <th>15</th>\n",
       "      <td>da7eed95-8606-43dc-8e27-5980bb72054f</td>\n",
       "      <td>https://www.elle.com/jp/culture/celebphotos/g4...</td>\n",
       "      <td>9</td>\n",
       "      <td>637.362488</td>\n",
       "      <td>13.6</td>\n",
       "      <td>31.200001</td>\n",
       "      <td>108.800003</td>\n",
       "      <td>2</td>\n",
       "    </tr>\n",
       "    <tr>\n",
       "      <th>16</th>\n",
       "      <td>b7b98500-41bf-43da-ae21-3f0003a2b636</td>\n",
       "      <td>https://www.elle.com/jp/culture/music-art-book...</td>\n",
       "      <td>2</td>\n",
       "      <td>241.324997</td>\n",
       "      <td>15.0</td>\n",
       "      <td>0.000000</td>\n",
       "      <td>0.000000</td>\n",
       "      <td>398</td>\n",
       "    </tr>\n",
       "    <tr>\n",
       "      <th>17</th>\n",
       "      <td>b7b98500-41bf-43da-ae21-3f0003a2b636</td>\n",
       "      <td>https://www.elle.com/jp/culture/music-art-book...</td>\n",
       "      <td>4</td>\n",
       "      <td>241.324997</td>\n",
       "      <td>15.0</td>\n",
       "      <td>0.000000</td>\n",
       "      <td>0.000000</td>\n",
       "      <td>398</td>\n",
       "    </tr>\n",
       "    <tr>\n",
       "      <th>18</th>\n",
       "      <td>b7b98500-41bf-43da-ae21-3f0003a2b636</td>\n",
       "      <td>https://www.elle.com/jp/culture/music-art-book...</td>\n",
       "      <td>6</td>\n",
       "      <td>241.324997</td>\n",
       "      <td>15.0</td>\n",
       "      <td>0.000000</td>\n",
       "      <td>0.000000</td>\n",
       "      <td>398</td>\n",
       "    </tr>\n",
       "    <tr>\n",
       "      <th>19</th>\n",
       "      <td>b7b98500-41bf-43da-ae21-3f0003a2b636</td>\n",
       "      <td>https://www.elle.com/jp/culture/music-art-book...</td>\n",
       "      <td>8</td>\n",
       "      <td>241.324997</td>\n",
       "      <td>15.0</td>\n",
       "      <td>0.000000</td>\n",
       "      <td>0.000000</td>\n",
       "      <td>398</td>\n",
       "    </tr>\n",
       "  </tbody>\n",
       "</table>\n",
       "</div>"
      ],
      "text/plain": [
       "                                      id  \\\n",
       "0   6ebaba86-9c57-4842-a82b-db08fbb283f2   \n",
       "1   6ebaba86-9c57-4842-a82b-db08fbb283f2   \n",
       "2   6ebaba86-9c57-4842-a82b-db08fbb283f2   \n",
       "3   6ebaba86-9c57-4842-a82b-db08fbb283f2   \n",
       "4   6ebaba86-9c57-4842-a82b-db08fbb283f2   \n",
       "5   6ebaba86-9c57-4842-a82b-db08fbb283f2   \n",
       "6   6ebaba86-9c57-4842-a82b-db08fbb283f2   \n",
       "7   6ebaba86-9c57-4842-a82b-db08fbb283f2   \n",
       "8   6ebaba86-9c57-4842-a82b-db08fbb283f2   \n",
       "9   6ebaba86-9c57-4842-a82b-db08fbb283f2   \n",
       "10  5ed5e05c-7010-4596-afec-1c409fb20d64   \n",
       "11  5ed5e05c-7010-4596-afec-1c409fb20d64   \n",
       "12  5ed5e05c-7010-4596-afec-1c409fb20d64   \n",
       "13  5ed5e05c-7010-4596-afec-1c409fb20d64   \n",
       "14  da7eed95-8606-43dc-8e27-5980bb72054f   \n",
       "15  da7eed95-8606-43dc-8e27-5980bb72054f   \n",
       "16  b7b98500-41bf-43da-ae21-3f0003a2b636   \n",
       "17  b7b98500-41bf-43da-ae21-3f0003a2b636   \n",
       "18  b7b98500-41bf-43da-ae21-3f0003a2b636   \n",
       "19  b7b98500-41bf-43da-ae21-3f0003a2b636   \n",
       "\n",
       "                                                  url  slide_index  \\\n",
       "0   https://www.elle.com/jp/culture/celebgossip/g4...            2   \n",
       "1   https://www.elle.com/jp/culture/celebgossip/g4...            3   \n",
       "2   https://www.elle.com/jp/culture/celebgossip/g4...            5   \n",
       "3   https://www.elle.com/jp/culture/celebgossip/g4...            7   \n",
       "4   https://www.elle.com/jp/culture/celebgossip/g4...            9   \n",
       "5   https://www.elle.com/jp/culture/celebgossip/g4...           10   \n",
       "6   https://www.elle.com/jp/culture/celebgossip/g4...           12   \n",
       "7   https://www.elle.com/jp/culture/celebgossip/g4...           14   \n",
       "8   https://www.elle.com/jp/culture/celebgossip/g4...           16   \n",
       "9   https://www.elle.com/jp/culture/celebgossip/g4...           17   \n",
       "10  https://www.elle.com/jp/decor/decor-interior-d...            1   \n",
       "11  https://www.elle.com/jp/decor/decor-interior-d...            7   \n",
       "12  https://www.elle.com/jp/decor/decor-interior-d...            8   \n",
       "13  https://www.elle.com/jp/decor/decor-interior-d...           11   \n",
       "14  https://www.elle.com/jp/culture/celebphotos/g4...            8   \n",
       "15  https://www.elle.com/jp/culture/celebphotos/g4...            9   \n",
       "16  https://www.elle.com/jp/culture/music-art-book...            2   \n",
       "17  https://www.elle.com/jp/culture/music-art-book...            4   \n",
       "18  https://www.elle.com/jp/culture/music-art-book...            6   \n",
       "19  https://www.elle.com/jp/culture/music-art-book...            8   \n",
       "\n",
       "         total  span         h2  description  diff  \n",
       "0   418.300018  15.0   0.000000   108.800003   221  \n",
       "1   324.524994  15.0   0.000000    83.200005   315  \n",
       "2   324.524994  15.0   0.000000    83.200005   315  \n",
       "3   324.524994  15.0   0.000000    83.200005   315  \n",
       "4   298.925018  15.0   0.000000    57.600002   341  \n",
       "5   375.725006  15.0   0.000000   134.400009   264  \n",
       "6   350.125000  15.0   0.000000   108.800003   289  \n",
       "7   350.125000  15.0   0.000000   108.800003   289  \n",
       "8   324.524994  15.0   0.000000    83.200005   315  \n",
       "9   350.125000  15.0   0.000000   108.800003   289  \n",
       "10  542.100037  13.6   0.000000   288.000000    97  \n",
       "11  559.475037  13.6   0.000000   262.399994    80  \n",
       "12  619.450012  13.6   0.000000   329.600006    20  \n",
       "13  379.399994  13.6  31.200001   104.400002   260  \n",
       "14  474.862518  13.6  31.200001   134.400009   165  \n",
       "15  637.362488  13.6  31.200001   108.800003     2  \n",
       "16  241.324997  15.0   0.000000     0.000000   398  \n",
       "17  241.324997  15.0   0.000000     0.000000   398  \n",
       "18  241.324997  15.0   0.000000     0.000000   398  \n",
       "19  241.324997  15.0   0.000000     0.000000   398  "
      ]
     },
     "execution_count": 6,
     "metadata": {},
     "output_type": "execute_result"
    }
   ],
   "source": [
    "df_zero.head(20)"
   ]
  },
  {
   "cell_type": "code",
   "execution_count": 13,
   "id": "dd5a2ece",
   "metadata": {},
   "outputs": [
    {
     "name": "stdout",
     "output_type": "stream",
     "text": [
      "<p><strong>★「Easy on Me」アデル</strong></p><p><strong></strong>「Moscow Mule」バッド・バニー</p><p>「Woman」ドージャ・キャット</p><p>「Bad Habit」スティーブ・レイシー</p><p>「About Damn Time」リゾ</p><p>「As It Was」ハリー・スタイルズ</p><p class=\"__auto-inserted-br__\"><br/><br/></p>\n"
     ]
    }
   ],
   "source": [
    "from bs4 import BeautifulSoup, Tag\n",
    "import pandas as pd\n",
    "\n",
    "# Sample input\n",
    "# html = '''<p>デビュー後もたびたびIUの大ファンであることを公言しているジョングク。この曲を選んだのも納得！<br><br><br><br><br><br><br><br><br><br></p>'''\n",
    "\n",
    "def move_trailing_brs_to_separate_p(html):\n",
    "    soup = BeautifulSoup(html, 'html.parser')\n",
    "    new_tags = []\n",
    "\n",
    "    for p in soup.find_all('p'):\n",
    "        children = list(p.contents)\n",
    "        i = len(children) - 1\n",
    "\n",
    "        # Collect trailing <br> tags\n",
    "        trailing_brs = []\n",
    "        while i >= 0:\n",
    "            if isinstance(children[i], Tag) and children[i].name == 'br':\n",
    "                trailing_brs.insert(0, children[i])\n",
    "                i -= 1\n",
    "            else:\n",
    "                break\n",
    "\n",
    "        if trailing_brs:\n",
    "            # Remove trailing <br> tags from original <p>\n",
    "            for br in trailing_brs:\n",
    "                br.extract()\n",
    "\n",
    "            # Create a new <p> with class and move <br>s there\n",
    "            new_p = soup.new_tag(\"p\", attrs={\"class\": \"__auto-inserted-br__\"})\n",
    "            for br in trailing_brs:\n",
    "                new_p.append(br)\n",
    "\n",
    "            # Insert new_p *after* the current <p>\n",
    "            p.insert_after(new_p)\n",
    "\n",
    "    return str(soup)\n",
    "\n",
    "# Example\n",
    "html = '''<p><strong>★「Easy on Me」アデル</strong></p><p><strong></strong>「Moscow Mule」バッド・バニー</p><p>「Woman」ドージャ・キャット</p><p>「Bad Habit」スティーブ・レイシー</p><p>「About Damn Time」リゾ</p><p>「As It Was」ハリー・スタイルズ<br><br></p>'''\n",
    "\n",
    "# Process and show result\n",
    "fixed_html = move_trailing_brs_to_separate_p(html)\n",
    "print(fixed_html)\n"
   ]
  },
  {
   "cell_type": "code",
   "execution_count": 3,
   "id": "d3c891bc",
   "metadata": {},
   "outputs": [
    {
     "data": {
      "text/html": [
       "<div>\n",
       "<style scoped>\n",
       "    .dataframe tbody tr th:only-of-type {\n",
       "        vertical-align: middle;\n",
       "    }\n",
       "\n",
       "    .dataframe tbody tr th {\n",
       "        vertical-align: top;\n",
       "    }\n",
       "\n",
       "    .dataframe thead th {\n",
       "        text-align: right;\n",
       "    }\n",
       "</style>\n",
       "<table border=\"1\" class=\"dataframe\">\n",
       "  <thead>\n",
       "    <tr style=\"text-align: right;\">\n",
       "      <th></th>\n",
       "      <th>site_prefix</th>\n",
       "      <th>id</th>\n",
       "      <th>slide_no</th>\n",
       "      <th>dek</th>\n",
       "    </tr>\n",
       "  </thead>\n",
       "  <tbody>\n",
       "    <tr>\n",
       "      <th>0</th>\n",
       "      <td>ELL-JP</td>\n",
       "      <td>6ebaba86-9c57-4842-a82b-db08fbb283f2</td>\n",
       "      <td>2</td>\n",
       "      <td>&lt;p&gt;デビュー後もたびたびIUの大ファンであることを公言しているジョングク。この曲を選んだの...</td>\n",
       "    </tr>\n",
       "    <tr>\n",
       "      <th>1</th>\n",
       "      <td>ELL-JP</td>\n",
       "      <td>6ebaba86-9c57-4842-a82b-db08fbb283f2</td>\n",
       "      <td>3</td>\n",
       "      <td>&lt;p&gt;こちらが「スーパースターK」に参加したジョングクのオーディション映像。&lt;br&gt;&lt;br&gt;...</td>\n",
       "    </tr>\n",
       "    <tr>\n",
       "      <th>2</th>\n",
       "      <td>ELL-JP</td>\n",
       "      <td>6ebaba86-9c57-4842-a82b-db08fbb283f2</td>\n",
       "      <td>5</td>\n",
       "      <td>&lt;p&gt;ちなみにロゼが受けたオーディションの倍率は700倍ともいわれている。&lt;br&gt;&lt;br&gt;&lt;...</td>\n",
       "    </tr>\n",
       "  </tbody>\n",
       "</table>\n",
       "</div>"
      ],
      "text/plain": [
       "  site_prefix                                    id  slide_no  \\\n",
       "0      ELL-JP  6ebaba86-9c57-4842-a82b-db08fbb283f2         2   \n",
       "1      ELL-JP  6ebaba86-9c57-4842-a82b-db08fbb283f2         3   \n",
       "2      ELL-JP  6ebaba86-9c57-4842-a82b-db08fbb283f2         5   \n",
       "\n",
       "                                                 dek  \n",
       "0  <p>デビュー後もたびたびIUの大ファンであることを公言しているジョングク。この曲を選んだの...  \n",
       "1  <p>こちらが「スーパースターK」に参加したジョングクのオーディション映像。<br><br>...  \n",
       "2  <p>ちなみにロゼが受けたオーディションの倍率は700倍ともいわれている。<br><br><...  "
      ]
     },
     "execution_count": 3,
     "metadata": {},
     "output_type": "execute_result"
    }
   ],
   "source": [
    "df = pd.read_csv('combined_output.csv')\n",
    "df.head(3)"
   ]
  },
  {
   "cell_type": "code",
   "execution_count": 14,
   "id": "6e32a57a",
   "metadata": {},
   "outputs": [
    {
     "data": {
      "text/html": [
       "<div>\n",
       "<style scoped>\n",
       "    .dataframe tbody tr th:only-of-type {\n",
       "        vertical-align: middle;\n",
       "    }\n",
       "\n",
       "    .dataframe tbody tr th {\n",
       "        vertical-align: top;\n",
       "    }\n",
       "\n",
       "    .dataframe thead th {\n",
       "        text-align: right;\n",
       "    }\n",
       "</style>\n",
       "<table border=\"1\" class=\"dataframe\">\n",
       "  <thead>\n",
       "    <tr style=\"text-align: right;\">\n",
       "      <th></th>\n",
       "      <th>site_prefix</th>\n",
       "      <th>id</th>\n",
       "      <th>slide_no</th>\n",
       "      <th>dek</th>\n",
       "      <th>tagged</th>\n",
       "    </tr>\n",
       "  </thead>\n",
       "  <tbody>\n",
       "    <tr>\n",
       "      <th>0</th>\n",
       "      <td>ELL-JP</td>\n",
       "      <td>6ebaba86-9c57-4842-a82b-db08fbb283f2</td>\n",
       "      <td>2</td>\n",
       "      <td>&lt;p&gt;デビュー後もたびたびIUの大ファンであることを公言しているジョングク。この曲を選んだの...</td>\n",
       "      <td>&lt;p&gt;デビュー後もたびたびIUの大ファンであることを公言しているジョングク。この曲を選んだの...</td>\n",
       "    </tr>\n",
       "    <tr>\n",
       "      <th>1</th>\n",
       "      <td>ELL-JP</td>\n",
       "      <td>6ebaba86-9c57-4842-a82b-db08fbb283f2</td>\n",
       "      <td>3</td>\n",
       "      <td>&lt;p&gt;こちらが「スーパースターK」に参加したジョングクのオーディション映像。&lt;br&gt;&lt;br&gt;...</td>\n",
       "      <td>&lt;p&gt;こちらが「スーパースターK」に参加したジョングクのオーディション映像。&lt;/p&gt;&lt;p c...</td>\n",
       "    </tr>\n",
       "    <tr>\n",
       "      <th>2</th>\n",
       "      <td>ELL-JP</td>\n",
       "      <td>6ebaba86-9c57-4842-a82b-db08fbb283f2</td>\n",
       "      <td>5</td>\n",
       "      <td>&lt;p&gt;ちなみにロゼが受けたオーディションの倍率は700倍ともいわれている。&lt;br&gt;&lt;br&gt;&lt;...</td>\n",
       "      <td>&lt;p&gt;ちなみにロゼが受けたオーディションの倍率は700倍ともいわれている。&lt;/p&gt;&lt;p cl...</td>\n",
       "    </tr>\n",
       "  </tbody>\n",
       "</table>\n",
       "</div>"
      ],
      "text/plain": [
       "  site_prefix                                    id  slide_no  \\\n",
       "0      ELL-JP  6ebaba86-9c57-4842-a82b-db08fbb283f2         2   \n",
       "1      ELL-JP  6ebaba86-9c57-4842-a82b-db08fbb283f2         3   \n",
       "2      ELL-JP  6ebaba86-9c57-4842-a82b-db08fbb283f2         5   \n",
       "\n",
       "                                                 dek  \\\n",
       "0  <p>デビュー後もたびたびIUの大ファンであることを公言しているジョングク。この曲を選んだの...   \n",
       "1  <p>こちらが「スーパースターK」に参加したジョングクのオーディション映像。<br><br>...   \n",
       "2  <p>ちなみにロゼが受けたオーディションの倍率は700倍ともいわれている。<br><br><...   \n",
       "\n",
       "                                              tagged  \n",
       "0  <p>デビュー後もたびたびIUの大ファンであることを公言しているジョングク。この曲を選んだの...  \n",
       "1  <p>こちらが「スーパースターK」に参加したジョングクのオーディション映像。</p><p c...  \n",
       "2  <p>ちなみにロゼが受けたオーディションの倍率は700倍ともいわれている。</p><p cl...  "
      ]
     },
     "execution_count": 14,
     "metadata": {},
     "output_type": "execute_result"
    }
   ],
   "source": [
    "df['tagged'] = df['dek'].apply(move_trailing_brs_to_separate_p)\n",
    "df.head(3)"
   ]
  },
  {
   "cell_type": "code",
   "execution_count": 3,
   "id": "0c31d487",
   "metadata": {},
   "outputs": [
    {
     "ename": "NameError",
     "evalue": "name 'df' is not defined",
     "output_type": "error",
     "traceback": [
      "\u001b[31m---------------------------------------------------------------------------\u001b[39m",
      "\u001b[31mNameError\u001b[39m                                 Traceback (most recent call last)",
      "\u001b[36mCell\u001b[39m\u001b[36m \u001b[39m\u001b[32mIn[3]\u001b[39m\u001b[32m, line 1\u001b[39m\n\u001b[32m----> \u001b[39m\u001b[32m1\u001b[39m \u001b[43mdf\u001b[49m.to_csv(\u001b[33m'\u001b[39m\u001b[33moutput.csv\u001b[39m\u001b[33m'\u001b[39m,index=\u001b[38;5;28;01mFalse\u001b[39;00m)\n",
      "\u001b[31mNameError\u001b[39m: name 'df' is not defined"
     ]
    }
   ],
   "source": [
    "df.to_csv('output.csv',index=False)"
   ]
  },
  {
   "cell_type": "code",
   "execution_count": 15,
   "id": "8a285da0",
   "metadata": {},
   "outputs": [
    {
     "data": {
      "text/html": [
       "<div>\n",
       "<style scoped>\n",
       "    .dataframe tbody tr th:only-of-type {\n",
       "        vertical-align: middle;\n",
       "    }\n",
       "\n",
       "    .dataframe tbody tr th {\n",
       "        vertical-align: top;\n",
       "    }\n",
       "\n",
       "    .dataframe thead th {\n",
       "        text-align: right;\n",
       "    }\n",
       "</style>\n",
       "<table border=\"1\" class=\"dataframe\">\n",
       "  <thead>\n",
       "    <tr style=\"text-align: right;\">\n",
       "      <th></th>\n",
       "      <th>site_prefix</th>\n",
       "      <th>id</th>\n",
       "      <th>slide_no</th>\n",
       "      <th>tagged</th>\n",
       "    </tr>\n",
       "  </thead>\n",
       "  <tbody>\n",
       "    <tr>\n",
       "      <th>0</th>\n",
       "      <td>ELL-JP</td>\n",
       "      <td>6ebaba86-9c57-4842-a82b-db08fbb283f2</td>\n",
       "      <td>2</td>\n",
       "      <td>&lt;p&gt;デビュー後もたびたびIUの大ファンであることを公言しているジョングク。この曲を選んだの...</td>\n",
       "    </tr>\n",
       "    <tr>\n",
       "      <th>1</th>\n",
       "      <td>ELL-JP</td>\n",
       "      <td>6ebaba86-9c57-4842-a82b-db08fbb283f2</td>\n",
       "      <td>3</td>\n",
       "      <td>&lt;p&gt;こちらが「スーパースターK」に参加したジョングクのオーディション映像。&lt;/p&gt;&lt;p c...</td>\n",
       "    </tr>\n",
       "  </tbody>\n",
       "</table>\n",
       "</div>"
      ],
      "text/plain": [
       "  site_prefix                                    id  slide_no  \\\n",
       "0      ELL-JP  6ebaba86-9c57-4842-a82b-db08fbb283f2         2   \n",
       "1      ELL-JP  6ebaba86-9c57-4842-a82b-db08fbb283f2         3   \n",
       "\n",
       "                                              tagged  \n",
       "0  <p>デビュー後もたびたびIUの大ファンであることを公言しているジョングク。この曲を選んだの...  \n",
       "1  <p>こちらが「スーパースターK」に参加したジョングクのオーディション映像。</p><p c...  "
      ]
     },
     "execution_count": 15,
     "metadata": {},
     "output_type": "execute_result"
    }
   ],
   "source": [
    "df_out = df.drop('dek',axis=1)\n",
    "df_out.head(2)"
   ]
  },
  {
   "cell_type": "code",
   "execution_count": 16,
   "id": "b2c4032e",
   "metadata": {},
   "outputs": [
    {
     "data": {
      "text/html": [
       "<div>\n",
       "<style scoped>\n",
       "    .dataframe tbody tr th:only-of-type {\n",
       "        vertical-align: middle;\n",
       "    }\n",
       "\n",
       "    .dataframe tbody tr th {\n",
       "        vertical-align: top;\n",
       "    }\n",
       "\n",
       "    .dataframe thead th {\n",
       "        text-align: right;\n",
       "    }\n",
       "</style>\n",
       "<table border=\"1\" class=\"dataframe\">\n",
       "  <thead>\n",
       "    <tr style=\"text-align: right;\">\n",
       "      <th></th>\n",
       "      <th>site_prefix</th>\n",
       "      <th>id</th>\n",
       "      <th>slide_no</th>\n",
       "      <th>dek</th>\n",
       "    </tr>\n",
       "  </thead>\n",
       "  <tbody>\n",
       "    <tr>\n",
       "      <th>0</th>\n",
       "      <td>ELL-JP</td>\n",
       "      <td>6ebaba86-9c57-4842-a82b-db08fbb283f2</td>\n",
       "      <td>2</td>\n",
       "      <td>&lt;p&gt;デビュー後もたびたびIUの大ファンであることを公言しているジョングク。この曲を選んだの...</td>\n",
       "    </tr>\n",
       "    <tr>\n",
       "      <th>1</th>\n",
       "      <td>ELL-JP</td>\n",
       "      <td>6ebaba86-9c57-4842-a82b-db08fbb283f2</td>\n",
       "      <td>3</td>\n",
       "      <td>&lt;p&gt;こちらが「スーパースターK」に参加したジョングクのオーディション映像。&lt;/p&gt;&lt;p c...</td>\n",
       "    </tr>\n",
       "  </tbody>\n",
       "</table>\n",
       "</div>"
      ],
      "text/plain": [
       "  site_prefix                                    id  slide_no  \\\n",
       "0      ELL-JP  6ebaba86-9c57-4842-a82b-db08fbb283f2         2   \n",
       "1      ELL-JP  6ebaba86-9c57-4842-a82b-db08fbb283f2         3   \n",
       "\n",
       "                                                 dek  \n",
       "0  <p>デビュー後もたびたびIUの大ファンであることを公言しているジョングク。この曲を選んだの...  \n",
       "1  <p>こちらが「スーパースターK」に参加したジョングクのオーディション映像。</p><p c...  "
      ]
     },
     "execution_count": 16,
     "metadata": {},
     "output_type": "execute_result"
    }
   ],
   "source": [
    "df_out = df_out.rename(columns={'tagged': 'dek'})\n",
    "df_out.head(2)"
   ]
  },
  {
   "cell_type": "code",
   "execution_count": null,
   "id": "4c9652c1",
   "metadata": {},
   "outputs": [],
   "source": [
    "df_out.to_csv('output.csv',index=False)"
   ]
  },
  {
   "cell_type": "code",
   "execution_count": 15,
   "id": "ae0402d8",
   "metadata": {},
   "outputs": [
    {
     "data": {
      "text/plain": [
       "(49181, 4)"
      ]
     },
     "execution_count": 15,
     "metadata": {},
     "output_type": "execute_result"
    }
   ],
   "source": [
    "df_output = pd.read_csv('csvs/output_total.csv')\n",
    "df_sos = df_output[df_output['isShown'] == 1]\n",
    "df_sos.shape"
   ]
  },
  {
   "cell_type": "code",
   "execution_count": 16,
   "id": "27e3ebf7",
   "metadata": {},
   "outputs": [
    {
     "data": {
      "text/plain": [
       "(5720, 3)"
      ]
     },
     "execution_count": 16,
     "metadata": {},
     "output_type": "execute_result"
    }
   ],
   "source": [
    "df_instagram = pd.read_csv('embed_instagram.csv')\n",
    "df_instagram.shape"
   ]
  },
  {
   "cell_type": "code",
   "execution_count": 17,
   "id": "e9e9fae1",
   "metadata": {},
   "outputs": [
    {
     "data": {
      "text/plain": [
       "(3623, 3)"
      ]
     },
     "execution_count": 17,
     "metadata": {},
     "output_type": "execute_result"
    }
   ],
   "source": [
    "df_out_ins = df_instagram[df_instagram['id'].isin(df_sos['id'])]\n",
    "df_out_ins.shape"
   ]
  },
  {
   "cell_type": "code",
   "execution_count": 18,
   "id": "4a01d245",
   "metadata": {},
   "outputs": [],
   "source": [
    "df_out_ins.to_csv('temp_insta.csv',index=False)"
   ]
  },
  {
   "cell_type": "code",
   "execution_count": 14,
   "id": "6a28d5b8",
   "metadata": {},
   "outputs": [],
   "source": [
    "df_combined = pd.read_csv('output_br_ptag.csv')\n",
    "df_info = df_combined[['id','slide_no']]\n",
    "df_info.head(2)\n",
    "df_info.to_csv('test_instagram.csv',index=False)"
   ]
  },
  {
   "cell_type": "code",
   "execution_count": 19,
   "id": "407973d0",
   "metadata": {},
   "outputs": [
    {
     "data": {
      "text/plain": [
       "(14829, 4)"
      ]
     },
     "execution_count": 19,
     "metadata": {},
     "output_type": "execute_result"
    }
   ],
   "source": [
    "df_br = pd.read_csv('output_br_ptag.csv')\n",
    "df_br_insta = df_br[df_br['id'].isin(df_instagram['id'])]\n",
    "df_br_insta.shape"
   ]
  },
  {
   "cell_type": "code",
   "execution_count": 21,
   "id": "4b609da4",
   "metadata": {},
   "outputs": [],
   "source": [
    "df_br_insta = df_br_insta[['site_prefix','id','slide_no']]\n",
    "df_br_insta.to_csv('br_insta_slide.csv',index=False)"
   ]
  },
  {
   "cell_type": "code",
   "execution_count": 22,
   "id": "a42cef34",
   "metadata": {},
   "outputs": [
    {
     "data": {
      "text/plain": [
       "(1734, 4)"
      ]
     },
     "execution_count": 22,
     "metadata": {},
     "output_type": "execute_result"
    }
   ],
   "source": [
    "df_insta_sos = pd.read_csv('insta_sos.csv')\n",
    "df_insta_sos.shape"
   ]
  },
  {
   "cell_type": "code",
   "execution_count": 23,
   "id": "0fad58ee",
   "metadata": {},
   "outputs": [
    {
     "data": {
      "text/plain": [
       "(321, 4)"
      ]
     },
     "execution_count": 23,
     "metadata": {},
     "output_type": "execute_result"
    }
   ],
   "source": [
    "df_tar = df_insta_sos[df_insta_sos['is_instagram'] == 1]\n",
    "df_tar.shape"
   ]
  },
  {
   "cell_type": "code",
   "execution_count": 24,
   "id": "e7e8f2e3",
   "metadata": {},
   "outputs": [],
   "source": [
    "df_tar.to_csv('target_insta_sos.csv',index=False)"
   ]
  },
  {
   "cell_type": "code",
   "execution_count": 1,
   "id": "26cc3f81",
   "metadata": {},
   "outputs": [
    {
     "name": "stdout",
     "output_type": "stream",
     "text": [
      "[{'mos_id': 'a7d640ad-4f66-4e65-af78-a2362296958d', 'site': 'ELL-JP', 'url': 'https://www.elle.com/jp/gourmet/gourmet-healthyfood/g42767003/dating-tips-spice-tolerance-23-0403/', 'slides': [{'title': '辛い物好きはデートで有利？', 'dek': '<p>辛い物好きな人は自分自身を魅力的だと考えるようだけど、彼らのデート相手はどう思っているの？<br>研究者のジェニー・ミスカさんは<a href=\"https://cdn.ymaws.com/www.psichi.org/resource/resmgr/journal_2018/23-1_Spring_Miska.pdf\" target=\"_blank\">彼女の論文</a>のなかで、辛い物を食べるという行為そのものが、デート相手に感じる魅力に影響を及ぼす可能性がある、と述べている。<br>\\u3000<br>たとえば、ミスカさんの研究の女性参加者に3つのおやつ（甘い物、スパイシーな物、甘くも辛くもない物）のいずれかを食べながら男性の写真を見せ、身体的魅力を感じたり、恋愛的興味がわくかどうかをランク付けしてもらったところ、その結果は驚くべきものだったという。<br>\\u3000<br>というのも、スパイシーな風味は被験者全体の恋愛的興味と身体的魅力の評価を圧倒的に高めることが判明。<br>「スパイシーな物を食べた女性は、甘い物を食べた女性に比べ、男性をはるかに魅力的であると評価しました」と研究は述べている。<br>\\u3000<br>これは「身体化された認知」という概念で説明することができる。「身体化された認知」とは、体が心に影響を与えることを意味する心理学用語。激辛のバッファローウィングを食べている時は、一緒にいる恋人がいつもよりセクシーに見えるかもしれないという。</p>', 'media_type': 'image', 'screen_height': 207}, {'title': '', 'dek': '<p>このような現象は、言語においても見ることができる。<br>「スパイシーや辛いといった言葉は、肉体的な魅力と関連する傾向があります。同様に、甘いやスウィートといった言葉は、ロマンチックな関係と関連する傾向があります」と付け加えるミスカさん。<br>\\u3000<br>この<a href=\"https://www.theatlantic.com/sponsored/porsche-2016/the-science-of-the-thrill/1010/\" target=\"_blank\">スリルへの探究は人間特有の行動</a>で、リスクを求めるのは魅力的なことと考えられる。そのため「センセーション・シーカー（感覚刺激追求者）」（ジェットコースターやギャンブル、激辛に挑む人）はパートナーからより魅力的に見られることが多いそう。<br>\\u3000<br>たとえば、『バチェラー』のような恋愛リアリティショーで、バンジージャンプのデートをした2人はいい感じの雰囲気になることが多い。これは<a href=\"https://www.mic.com/articles/111382/when-it-comes-to-romance-science-has-good-news-for-adrenaline-junkies\" target=\"_blank\">不安を感じた瞬間やアドレナリンが、実は性的魅力につながる</a>ことによるもの。辛い物を食べるスリルは、ロッククライミングやスカイダイビングといった危険な活動によって火がつく脳の領域と同じような部分を活性化する。<br>\\u3000<br>さらにスパイス耐性は、その人の<a href=\"https://www.sciencedirect.com/science/article/abs/pii/S0950329315000038#!\" target=\"_blank\">気質や性格と密接に結びついている</a>とか。ライターで編集者のジェニファー・アッバシさんは科学誌『<a href=\"https://www.popsci.com/science/article/2012-12/love-spicy-food-built-your-personality/\" target=\"_blank\">ポピュラー・サイエンス</a>』で、「スパイシーな食事が好きかどうか、どれくらいの頻度で食べるかは性格に関係すると研究者は話しています」と明かしている。</p>', 'media_type': 'image', 'screen_height': 208}, {'title': '', 'dek': '<p>辛い物好きを認知しているかどうか、男女で認識が変わるというのも面白い話。ペンシルベニア州立大学の<a href=\"https://www.sciencedirect.com/science/article/abs/pii/S0950329315000038#!\" target=\"_blank\">研究</a>によると、男性は辛い物が好きだと言う傾向は強いが、女性のほうが辛い食べ物を楽しむ人が圧倒的に多いそう。次のデート相手が辛い物を食べて汗をかいていたら、緊張しているし気を引こうとしてるのかもしれない。<br>\\u3000<br>また外食や料理を一緒にする回数が多い場合、相手が自分のスパイス耐性に影響を与える可能性がある。この理由から、マッチングアプリのプロフィールにスパイス耐性を入れてほしいという人は意外と多いはず。辛い物を好きな人が辛い物を食べられない人と食事を頻繁にとると、スパイス耐性が低下することもある。とはいえこの場合、こっそり料理に辛味を足して相手のスパイス耐性をアップさせるのではなく、お互いの中間をとるのがベスト。</p>', 'media_type': 'image', 'screen_height': 208}, {'title': '辛い物に慣れるには何から始めればいい？', 'dek': '<p>スパイシーな食べ物は、食べれば食べるほど辛さに慣れることが研究で分かっている。辛さに対する耐性は「生まれと育ち」が関係しているけれど、少しずつ慣れることで痛みを最小限に抑えながらより高い耐性を身に付けられるという。<br>\\u3000<br>辛い物にまつわるウェブサイト『<a href=\"https://www.pepperscale.com/spicy-food-tolerance/\" target=\"_blank\">ペッパースケール</a>』では、まずはマイルドな唐辛子（ポブラノ、キューバネル、ペペロンチーニなど）に慣れると同時に、わさびやホースラディッシュなどの調味料を試すことを提案している。<br>\\u3000<br>また「フランクズ・レッドホット」や「テキサス・ピート」のような初心者にやさしいホットソースから始めて、徐々に辛い種類に挑戦するのも良さそう。どの辛さレベルでも、耐えられなくなったときに備えて牛乳やヨーグルトなど、クールダウンできるものを近くに置いておくと便利。<br>\\u3000<br>ドリトスのように年々辛くなる商品や、趣味でより辛い品種の唐辛子を栽培するなど、次々と食の変化を起こす辛い物好きの人たち。辛さやスパイスに強くなるうちに、恋愛も上手になっていくのかも？</p><hr><p><small>translation : Mutsumi Matsunobu\\u3000photo : Getty Images</small></p><hr><p><a href=\"https://www.delish.com/food-news/a42857864/dating-tips-spice-tolerance/\" target=\"_blank\">＞＞『delish』のオリジナル記事はこちら</a><br>※この記事は、海外のサイトで掲載されたものの翻訳版です。データや研究結果はすべてオリジナル記事によるものです。</p>', 'media_type': 'image', 'screen_height': 208}, {'title': 'こちらもcheck！', 'dek': '', 'media_type': 'image', 'screen_height': 208}, {'title': 'こちらもcheck！', 'dek': '<p><a href=\"https://www.elle.com/jp/gourmet/g36550431/wine-cheese-21-0609/\" class=\"body-btn-link\" data-vars-ga-outbound-link=\"https://www.elle.com/jp/gourmet/g36550431/wine-cheese-21-0609/\" data-vars-ga-call-to-action=\"ワインとチーズは、認知症の予防や改善にいい！？\">ワインとチーズは、認知症の予防や改善にいい！？</a></p><hr><p><a href=\"https://www.elle.com/jp/gourmet/gourmet-healthyfood/\" data-vars-ga-outbound-link=\"https://www.elle.com/jp/gourmet/gourmet-healthyfood/\" automate_uuid=\"844e7e00-8bb4-4ef0-9ad0-e955db1aa10e\">＞＞ヘルシーフード・ダイエットの記事をもっとみる</a></p><p><a href=\"https://www.elle.com/jp/gourmet/\" data-vars-ga-outbound-link=\"https://www.elle.com/jp/gourmet/\" automate_uuid=\"ad39c871-d50a-45f4-8d4d-2335f80236be\">＞＞グルメの新着記事はこちら</a></p>', 'media_type': 'image', 'screen_height': 208}]}, {'mos_id': '285c9cae-7085-4e2d-b985-6a8eb7f29c1b', 'site': 'ELL-JP', 'url': 'https://www.elle.com/jp/gourmet/gourmet-healthyfood/g42766857/worst-foods-for-teeth-23-0313/', 'slides': [{'slide_number': 0, 'title': 'タフィー', 'dek': '<p>柔らかく粘り気があり、歯にくっつきやすい食べ物はう蝕原性（虫歯になりやすい）といえます、と教えてくれたのは、オハイオ州の口腔外科および顎顔面外科の専門医である<a href=\"https://www.jaclyntomsic.com/\" target=\"_blank\">ジャクリン・トムシック医師</a>。タフィーは、虫歯になりやすい食品の代表格だという。</p>', 'media_type': 'image', 'screen_height': 597}, {'slide_number': 1, 'title': 'バナナ', 'dek': '<p>信じられないかもしれないけれど、バナナはう蝕原性の食品。その柔らかい食感から、バナナは容易に歯や歯茎の隙間に入り込み、そこに留まることで虫歯を引き起こす。<br>「すぐに歯磨きできない時は、バナナを避けたほうがいいでしょう」とトムシック医師はアドバイスする。<br></p>', 'media_type': 'image', 'screen_height': 597}, {'slide_number': 2, 'title': 'キャラメル', 'dek': '<p>ねばねばとした粘着質の歯ごたえがクセになるキャラメルだけど、それこそが歯に悪い要因。キャラメルは歯にくっついている時間が長いので、ほかの食品よりも虫歯を引き起こす可能性がはるかに高い。</p>', 'media_type': 'image', 'screen_height': 600}, {'slide_number': 3, 'title': 'レーズン', 'dek': '<p>レーズンが歯に悪いなんて思いもしなかったけど、グミやキャンディーと同じくらい粘りと噛みごたえのあるレーズンは（そのほかのドライフルーツも）、歯のトラブルを起こしやすい。独特の粘着質感は歯ブラシで取りにくく、虫歯の可能性を高めます、とトムシック医師は語る。</p>', 'media_type': 'image', 'screen_height': 597}, {'slide_number': 4, 'title': 'ナッツ類', 'dek': '<p>トムシック医師いわく、ナッツのような固い食べ物を食べると弱い歯が欠けたり、傷つく可能性があるという。もしミックスナッツが好きなら、くるみのような柔らかいナッツを選んで食べるようにしよう。</p>', 'media_type': 'image', 'screen_height': 600}, {'slide_number': 5, 'title': '醤油', 'dek': '<p>夜間用マウスピース<a href=\"https://www.byte.com/community/resources/article/teeth-troubles\" target=\"_blank\">「バイト」の10月のレポート</a>によると、同社の歯科医ネットワークから得たデータで歯にシミができやすい食品のトップ6の1つに醤油がランクインしていたそう。さまざまな料理に使われることや、その色の濃さを考えれば納得かも。</p>', 'media_type': 'image', 'screen_height': 598}, {'slide_number': 6, 'title': '固いキャンディー', 'dek': '<p>ナッツ類と同じように、固いキャンディーはもろい歯にトラブルをもたらす可能性がある。被せものやインプラントをしている人は、とくに要注意。</p>', 'media_type': 'image', 'screen_height': 598}, {'slide_number': 7, 'title': 'ピーナッツバター', 'dek': '<p>ピーナッツバターは口蓋だけでなく、歯と歯の間や歯の側面など、どこにでもくっついてしまう。さらにピーナッツバターは砂糖をたくさん含む場合がほとんど。これらの理由から歯に優しい食べ物とは言えません、とトムシック医師は語る。</p>', 'media_type': 'image', 'screen_height': 598}, {'slide_number': 8, 'title': 'クラッカー', 'dek': '<p>クラッカー（とくに固めのものやシードがついたもの）は、食べたときに歯がかけることがたまにある。敏感で弱い歯質の人は注意が必要です、とトムシック医師はアドバイスする。</p>', 'media_type': 'image', 'screen_height': 601}, {'slide_number': 9, 'title': 'バルサミコ酢', 'dek': '<p><a href=\"https://www.byte.com/community/resources/article/teeth-troubles\" target=\"_blank\">「バイト」の2022年のレポート</a>によると、バルサミコ酢は歯のシミの大きな原因になるという。バルサミコ酢は酸性度が高く、時間が経つと歯のエナメル質が溶ける恐れがあることが<a href=\"https://pubmed.ncbi.nlm.nih.gov/24839821/\" target=\"_blank\">研究で示唆されている</a>。</p>', 'media_type': 'image', 'screen_height': 597}, {'slide_number': 10, 'title': 'トフィー', 'dek': '<p>歯にダメージを与える食品の条件がすべてそろったトフィーが入るのは当然といえば当然。トフィーは固くて粘り気があり、砂糖もたくさん使われている。つまり、歯が欠けたり、歯についたりしやすく、最終的に虫歯になりやすいということ。</p>', 'media_type': 'image', 'screen_height': 600}, {'slide_number': 11, 'title': 'ソーダ', 'dek': '<p>砂糖の入った甘いソフトドリンクを飲むと虫歯になりやすく、一般的に炭酸飲料は時間の経過とともにエナメル質を溶かすことが、<a href=\"https://www.ncbi.nlm.nih.gov/pmc/articles/PMC5771309/\" target=\"_blank\">研究で明らかになっている</a>。<a href=\"https://www.byte.com/community/resources/article/teeth-troubles\" target=\"_blank\">「バイト」のレポート</a>によると、濃い色のコーラは歯のシミの原因になるという。 </p>', 'media_type': 'image', 'screen_height': 598}, {'slide_number': 12, 'title': '氷', 'dek': '<p>氷を噛み砕くのが好きという人は一定数いるかもしれない。そうは言っても、たとえどんなに好きでも歯にダメージを与えるほどの価値はない。固い氷を噛むと、歯やラミネートベニアにひびが入ったり、欠けることがある。また、歯のエナメル質が損傷して、高温や低温に対して知覚敏感になる恐れがある。</p>', 'media_type': 'image', 'screen_height': 597}, {'slide_number': 13, 'title': 'トマトジュース', 'dek': '<p>栄養面でトマトは素晴らしいですが、歯にとっては違う時もあります、とディル医師は説明。トマトは非常に酸性度の高い食品なので、「過剰に食べると歯のエナメル質を損傷し、歯の痛みや知覚過敏、変色を引き起こすうえ、虫歯になりやすくなる」のだそう。「トマトは適度に食べるようにしましょう」と彼はアドバイスしている。</p>', 'media_type': 'image', 'screen_height': 597}, {'slide_number': 14, 'title': 'ポテトチップス', 'dek': '<p>ついつい食べ過ぎてしまうポテトチップスは、臼歯の間に挟まりやすい食べ物。「でんぷん質の食品は歯や歯茎の細菌の餌となり、口腔内の健康トラブルの原因になる恐れがあります」とディル医師は語る。<br>「細菌が餌を食べると酸が形成され、歯のエナメル質を溶かして虫歯の原因となります。細菌はまた、歯周病や骨へのダメージを引き起こし、最終的には歯の喪失につながることもあります」</p>', 'media_type': 'image', 'screen_height': 599}, {'slide_number': 15, 'title': 'クッキー', 'dek': '<p>クッキーのなかでもとくに柔らかくて噛みごたえのある種類は、唾液でも簡単に洗い流しきれないため、虫歯になる可能性が高いでしょう、とディル医師は語る。</p>', 'media_type': 'image', 'screen_height': 600}, {'slide_number': 16, 'title': 'リコリスキャンディー', 'dek': '<p>固くて、歯ごたえがあり、甘い。そんなリコリスキャンディーが好きな人なら、食べたあとに歯やあごが疲れることも実感しているはず。歯の健康面からいっても、粘着質で糖分が多いキャンディーを食べることは悪い口腔内細菌を招き入れることにつながる。</p>', 'media_type': 'image', 'screen_height': 598}, {'slide_number': 17, 'title': '砂糖入りの甘いジュース', 'dek': '<p>フルーツジュースの多くは酸性度が高く、砂糖も入っていて、歯の健康にいいとはいえない。たとえば、オレンジジュースの酸は、時間が経つと歯を保護するエナメル質を溶かしてしまう。いっぽう、砂糖は歯に残り虫歯の原因となります、とトムシック医師は語る。</p>', 'media_type': 'image', 'screen_height': 598}, {'slide_number': 18, 'title': 'アイスキャンディー', 'dek': '<p>カラフルなアイスキャンディーは、<a href=\"https://www.byte.com/community/resources/article/teeth-troubles\" target=\"_blank\">「バイト」</a>が作った歯にシミがつきやすい食品のトップリストにランクインしている。さらに、冷たいものに対して知覚敏感な人にもおすすめできない。</p>', 'media_type': 'image', 'screen_height': 600}, {'slide_number': 19, 'title': 'コーヒー', 'dek': '<p>残念ながら、朝に飲みたい1杯のコーヒーも歯のシミの原因に。<a href=\"https://www.byte.com/community/resources/article/teeth-troubles\" target=\"_blank\">「バイト」のレポート</a>では、ソーダに加えて歯にシミがつきやすい飲み物のトップリストにランク付けされている。また、コーヒーは酸性で、歯のエナメル質を溶かしてしまう恐れがある。</p>', 'media_type': 'image', 'screen_height': 600}, {'slide_number': 20, 'title': 'サワーグミキャンディー', 'dek': '<p><a href=\"https://www.byte.com/community/resources/article/teeth-troubles\" target=\"_blank\">「バイト」のレポート</a>によると、カラフルなグミやキャンディーは歯のシミの原因になりやすい食べ物の1つだそう。グミの食感に酸っぱさをコーティングしたサワーグミキャンディーは、歯にくっつきやすく、砂糖もたっぷり使われているため、さらに事態を悪化させてしまう。「サワーグミキャンディーは、酸性度が高いわりに栄養価が低いので、避けるべきです」とディル医師はアドバイス。</p>', 'media_type': 'image', 'screen_height': 600}, {'slide_number': 21, 'title': '赤ワイン', 'dek': '<p>「<a href=\"https://www.mayoclinic.org/diseases-conditions/heart-disease/in-depth/red-wine/art-20048281#:~:text=Red%20wine%2C%20in%20moderation%2C%20has,attacks%20aren\\'t%20completely%20understood.\" target=\"_blank\">メイヨークリニック</a>」によると、赤ワインは適度に摂取するなら心臓の健康にいいみたい。ただし、寝酒は歯には悪影響。ワイン好きには当たり前の事実かもしれないけれど、赤ワインは<a href=\"https://www.byte.com/community/resources/article/teeth-troubles\" target=\"_blank\">「バイト」のリスト</a>で歯のシミになりやすい飲み物のベスト3にランクインしている。夜の飲酒後は歯にシミを残さないよう特別丁寧に歯を磨く努力が必要。</p>', 'media_type': 'image', 'screen_height': 598}, {'slide_number': 22, 'title': 'カレー', 'dek': '<p>黄色いウコンのシミや汚れを取り除くのに苦労した経験がある人なら、簡単に落ちないということを知っているはず。残念ながら、それは歯にも当てはまる。<a href=\"https://www.byte.com/community/resources/article/teeth-troubles\" target=\"_blank\">「バイト」のレポート</a>にも、歯にシミができやすい食品のリストに、カレー（とくにウコンベースのもの）がランクインしている。</p>', 'media_type': 'image', 'screen_height': 597}, {'slide_number': 23, 'title': 'お茶', 'dek': '<p>お茶（とくに緑茶）はこのリストに入らないだろうと思っていたなら、それは間違い。<a href=\"https://www.byte.com/community/resources/article/teeth-troubles\" target=\"_blank\">「バイト」</a>のリストにも、お茶全般が入っている。ただし<a href=\"https://pubmed.ncbi.nlm.nih.gov/25040739/\" target=\"_blank\">ある研究</a>では、お茶に牛乳を加えると歯のシミを防ぐ効果があることが判明している。</p>', 'media_type': 'image', 'screen_height': 600}, {'slide_number': 24, 'title': '柑橘類', 'dek': '<p>トマトと同様に、柑橘類は酸性度が高く、歯のエナメル質を溶かしてしまう。たまに水に絞るくらいなら大丈夫だけれど、「レモン、ライム、オレンジ、グレープフルーツなどの柑橘類をそのままかじったり、酸性の果汁を吸うのは避けてください」とディル医師は警告する。</p>', 'media_type': 'image', 'screen_height': 600}, {'slide_number': 25, 'title': 'プレッツェル', 'dek': '<p>プレッツェルはでんぷん質の食べ物。その残骸はすぐに取り払わないと、口腔内の細菌にごちそうを提供するようなものです、ディル医師は語る。細菌がプレッツェルの残骸を食べると、口腔内環境が酸性寄りになり、歯が溶けやすくなったり、虫歯になりやすくなるなどの問題が起こる。</p>', 'media_type': 'image', 'screen_height': 601}, {'slide_number': 26, 'title': '白米', 'dek': '<p>まさか歯に悪いと思わなかったでんぷん質の食べ物が、ここにもう1つ。白米を食べると、プレッツェルやチップスと同じくらい口の中が酸性寄りになり、口腔内マイクロバイオームのバランスが崩れます、とディル医師は話す。</p>', 'media_type': 'image', 'screen_height': 595}, {'slide_number': 27, 'title': 'グラノーラバー', 'dek': '<p>パパッと食べられるヘルシーな朝食を選ぶ際、その食べ物が歯に与える影響まで考えることはないはず。一部の人の食生活にはすでに組み込まれているかもしれないけれど、グラノーラバーやシリアルバーは歯と歯の間に挟まりやすい食品。さらに砂糖を添加している場合も多いので、虫歯の原因になりやすい。</p>', 'media_type': 'image', 'screen_height': 598}, {'slide_number': 28, 'title': '柔らかいパン', 'dek': '<p>とくに白パンなどの柔らかいパンは固いパンよりも歯にくっつきやすく、より長く留まる可能性が高いでしょうとディル医師は語る。言いかえれば、口腔内の健康トラブルを引き起こす可能性が高いということ。</p>', 'media_type': 'image', 'screen_height': 598}, {'slide_number': 29, 'title': 'ケーキ', 'dek': '<p>ケーキはお祝いにつきものだけれど、口腔の健康のためには食べたあとに少なくとも水で洗い流すよう、ディル医師はアドバイス。「砂糖や酸性食品にさらされる頻度が多いほど、歯がダメージを受ける可能性も高くなります。そのため夕食後にデザートを楽しんだあとは、歯をきれいにするのを助けてくれる水を飲んで、食事を終えるようにしてください」と語る。<br></p><hr><p><small>translation : Mutsumi Matsunobu\\u3000photo : Getty Images</small></p><hr><p><a href=\"https://www.prevention.com/health/g42088411/worst-foods-for-teeth/\" target=\"_blank\" rel=\"nofollow\">＞＞『Prevention』のオリジナル記事はこちら</a><br>※この記事は、海外のサイトで掲載されたものの翻訳版です。データや研究結果はすべてオリジナル記事によるものです。</p>', 'media_type': 'image', 'screen_height': 599}, {'slide_number': 30, 'title': 'こちらもcheck！', 'dek': '<p><a href=\"https://www.elle.com/jp/gourmet/gourmet-healthyfood/g41078580/taste-preferences-genes-22-1007/\" class=\"body-btn-link\" data-vars-ga-outbound-link=\"https://www.elle.com/jp/gourmet/gourmet-healthyfood/g41078580/taste-preferences-genes-22-1007/\" data-vars-ga-call-to-action=\"食べ物の好き嫌いに遺伝子が関係している？ 研究によって判明\" rel=\"nofollow\">食べ物の好き嫌いに遺伝子が関係している？ 研究によって判明</a></p>', 'media_type': 'image', 'screen_height': 597}, {'slide_number': 31, 'title': 'こちらもcheck！', 'dek': '<p><a href=\"https://www.elle.com/jp/gourmet/gourmet-healthyfood/g40778381/healthiest-drinks-22-0923/\" class=\"body-btn-link\" data-vars-ga-outbound-link=\"https://www.elle.com/jp/gourmet/gourmet-healthyfood/g40778381/healthiest-drinks-22-0923/\" data-vars-ga-call-to-action=\"登録栄養士がおすすめする、水以外のヘルシードリンク8\" rel=\"nofollow\">登録栄養士がおすすめする、水以外のヘルシードリンク8</a></p><hr><p><a href=\"https://www.elle.com/jp/gourmet/gourmet-healthyfood/\" data-vars-ga-outbound-link=\"https://www.elle.com/jp/gourmet/gourmet-healthyfood/\" automate_uuid=\"844e7e00-8bb4-4ef0-9ad0-e955db1aa10e\">＞＞ヘルシーフード・ダイエットの記事をもっとみる</a></p><p><a href=\"https://www.elle.com/jp/gourmet/\" data-vars-ga-outbound-link=\"https://www.elle.com/jp/gourmet/\" automate_uuid=\"ad39c871-d50a-45f4-8d4d-2335f80236be\">＞＞グルメの新着記事はこちら</a></p>', 'media_type': 'image', 'screen_height': 598}]}]\n"
     ]
    }
   ],
   "source": [
    "import requests\n",
    "\n",
    "url = \"http://35.213.67.93/csv/sos.json\"\n",
    "username = \"55oshie-ru\"\n",
    "password = \"log4me\"\n",
    "\n",
    "response = requests.get(url, auth=(username, password))\n",
    "response.raise_for_status()  # raise an error if the request failed\n",
    "\n",
    "data = response.json()  # parse JSON into a Python object\n",
    "\n",
    "print(data)"
   ]
  },
  {
   "cell_type": "code",
   "execution_count": 4,
   "id": "64566a7f",
   "metadata": {},
   "outputs": [
    {
     "data": {
      "text/plain": [
       "Index(['mos_id', 'site', 'url', 'slides'], dtype='object')"
      ]
     },
     "execution_count": 4,
     "metadata": {},
     "output_type": "execute_result"
    }
   ],
   "source": [
    "df = pd.read_csv('slides_output.csv')\n",
    "df.columns"
   ]
  },
  {
   "cell_type": "code",
   "execution_count": 10,
   "id": "cab88248",
   "metadata": {},
   "outputs": [
    {
     "ename": "ImportError",
     "evalue": "cannot import name 'get_height' from 'cron_sos_check.batch_process' (c:\\work\\projects\\ads_detect\\cron_sos_check\\batch_process.py)",
     "output_type": "error",
     "traceback": [
      "\u001b[31m---------------------------------------------------------------------------\u001b[39m",
      "\u001b[31mImportError\u001b[39m                               Traceback (most recent call last)",
      "\u001b[36mCell\u001b[39m\u001b[36m \u001b[39m\u001b[32mIn[10]\u001b[39m\u001b[32m, line 2\u001b[39m\n\u001b[32m      1\u001b[39m \u001b[38;5;28;01mimport\u001b[39;00m\u001b[38;5;250m \u001b[39m\u001b[34;01mrequests\u001b[39;00m\n\u001b[32m----> \u001b[39m\u001b[32m2\u001b[39m \u001b[38;5;28;01mfrom\u001b[39;00m\u001b[38;5;250m \u001b[39m\u001b[34;01mcron_sos_check\u001b[39;00m\u001b[34;01m.\u001b[39;00m\u001b[34;01mbatch_process\u001b[39;00m\u001b[38;5;250m \u001b[39m\u001b[38;5;28;01mimport\u001b[39;00m get_height\n\u001b[32m      4\u001b[39m url = \u001b[33m\"\u001b[39m\u001b[33mhttp://35.213.67.93/get-sos\u001b[39m\u001b[33m\"\u001b[39m\n\u001b[32m      5\u001b[39m \u001b[38;5;66;03m# elastic search / csv / basic authentation\u001b[39;00m\n\u001b[32m      6\u001b[39m \u001b[38;5;66;03m# username = \"55oshie-ru\"\u001b[39;00m\n\u001b[32m      7\u001b[39m \u001b[38;5;66;03m# password = \"log4me\"\u001b[39;00m\n",
      "\u001b[31mImportError\u001b[39m: cannot import name 'get_height' from 'cron_sos_check.batch_process' (c:\\work\\projects\\ads_detect\\cron_sos_check\\batch_process.py)"
     ]
    }
   ],
   "source": [
    "import requests\n",
    "from cron_sos_check.batch_process import get_height\n",
    "\n",
    "url = \"http://35.213.67.93/get-sos\"\n",
    "# elastic search / csv / basic authentation\n",
    "# username = \"55oshie-ru\"\n",
    "# password = \"log4me\"\n",
    "\n",
    "x_api_key = '7dbe5f653a2b'\n",
    "headers = {\n",
    "    'x-api-key': x_api_key,\n",
    "}\n",
    "# header \n",
    "#.env API_KEY\n",
    "\n",
    "try:\n",
    "    # response = requests.post(url, auth=(username, password))\n",
    "    response = requests.post(url, headers=headers)\n",
    "    response.raise_for_status()  # Raise an error for bad responses (4xx/5xx)\n",
    "    data = response.json()  # Parse JSON response\n",
    "    print(f'response ----- {response.headers}')\n",
    "    print(\"Keys:\", list(data.keys()))\n",
    "    get_height(data=data)\n",
    "except requests.exceptions.RequestException as e:\n",
    "    print(\"Request failed:\", e)\n",
    "except ValueError:\n",
    "    print(\"Response was not valid JSON.\")"
   ]
  },
  {
   "cell_type": "code",
   "execution_count": 1,
   "id": "75688f2b",
   "metadata": {},
   "outputs": [
    {
     "name": "stdout",
     "output_type": "stream",
     "text": [
      "(180090, 5) (13, 3)\n"
     ]
    }
   ],
   "source": [
    "import pandas as pd\n",
    "pd_origin = pd.read_csv('output_202507141400_ori.csv',encoding='utf-8')\n",
    "pd_sp = pd.read_csv('listicle_sponsor.csv',encoding='utf-8')\n",
    "pd_sponsor = pd_sp[pd_sp['sponsor'] == True]\n",
    "pd_sponsor.to_csv('sponsors.csv',encoding='utf-8',index=False)\n",
    "# filtered_df_2 = pd_origin[~pd_origin['id'].isin(pd_sponsor['mos_id'])]\n",
    "# filtered_df_2.to_csv('output_202507141400.csv',encoding='utf-8',index=False)\n",
    "print(pd_origin.shape, pd_sponsor.shape)"
   ]
  },
  {
   "cell_type": "code",
   "execution_count": 3,
   "id": "8f1e3a53",
   "metadata": {},
   "outputs": [
    {
     "name": "stdout",
     "output_type": "stream",
     "text": [
      "(180059, 5)\n",
      "(76738, 2)\n"
     ]
    }
   ],
   "source": [
    "import pandas as pd\n",
    "\n",
    "output = pd.read_csv(\"output_202507141400_ori.csv\", encoding=\"utf-8\")\n",
    "df_list = pd.read_csv('listicle_result.csv',encoding='utf-8')\n",
    "print(output.shape)\n",
    "print(df_list.shape)"
   ]
  },
  {
   "cell_type": "code",
   "execution_count": 4,
   "id": "13c19812",
   "metadata": {},
   "outputs": [
    {
     "name": "stdout",
     "output_type": "stream",
     "text": [
      "(180059, 6)\n"
     ]
    }
   ],
   "source": [
    "df_merged = output.merge(df_list[['mos_id', 'url']], left_on='id', right_on='mos_id', how='left')\n",
    "# Drop the helper column 'mos_id' (optional)\n",
    "df_merged = df_merged.drop(columns=['mos_id'])\n",
    "\n",
    "print(df_merged.shape)\n"
   ]
  },
  {
   "cell_type": "code",
   "execution_count": 5,
   "id": "8fd7c2bc",
   "metadata": {},
   "outputs": [],
   "source": [
    "df_merged.to_csv(\"output_202507141400.csv\", encoding=\"utf-8\", index=False)"
   ]
  },
  {
   "cell_type": "code",
   "execution_count": 6,
   "id": "7b1520d6",
   "metadata": {},
   "outputs": [
    {
     "data": {
      "text/plain": [
       "(180059, 6)"
      ]
     },
     "execution_count": 6,
     "metadata": {},
     "output_type": "execute_result"
    }
   ],
   "source": [
    "df_merged.shape"
   ]
  },
  {
   "cell_type": "code",
   "execution_count": null,
   "id": "77aa9e24",
   "metadata": {},
   "outputs": [],
   "source": [
    "def check_tag(description_html):\n",
    "    escaped_html = description_html.replace(\"`\", \"\\\\`\")\n",
    "    match = re.search(r'<div class=\"inner-wrapper\">\\s*<([a-zA-Z0-9]+)', escaped_html)\n",
    "    if match:\n",
    "        tag = match.group(1)\n",
    "        if tag == 'p':\n",
    "            pass\n",
    "        else:\n",
    "            print(\"First tag:\", match.group(1))\n",
    "            print(f'html --- {escaped_html}')\n",
    "    else:\n",
    "        pass"
   ]
  },
  {
   "cell_type": "code",
   "execution_count": 3,
   "id": "0af2a301",
   "metadata": {},
   "outputs": [
    {
     "name": "stdout",
     "output_type": "stream",
     "text": [
      "(180059, 6)\n",
      "(3754, 6)\n"
     ]
    }
   ],
   "source": [
    "import pandas as pd\n",
    "data = pd.read_csv('output_202507141400.csv',encoding='utf-8')\n",
    "print(data.shape)\n",
    "un_p = data[~data['dek'].str.startswith('<p')]\n",
    "print(un_p.shape)\n",
    "un_p.to_csv('out_un_p_tag.csv',index=False)"
   ]
  },
  {
   "cell_type": "code",
   "execution_count": 4,
   "id": "9384460b",
   "metadata": {},
   "outputs": [
    {
     "name": "stdout",
     "output_type": "stream",
     "text": [
      "Combined 16 CSV files\n",
      "  site_prefix section_slug                                    id  slide_no  \\\n",
      "0      ELL-JP      culture  e3cbb7b4-bbd6-4ff0-b60b-229b31813b92         3   \n",
      "1      ELL-JP      culture  e3cbb7b4-bbd6-4ff0-b60b-229b31813b92         5   \n",
      "2      ELL-JP      culture  e3cbb7b4-bbd6-4ff0-b60b-229b31813b92         6   \n",
      "3      ELL-JP      culture  e3cbb7b4-bbd6-4ff0-b60b-229b31813b92         7   \n",
      "4      ELL-JP      culture  e3cbb7b4-bbd6-4ff0-b60b-229b31813b92         8   \n",
      "\n",
      "                                                 dek  \n",
      "0  <p>また、時代は“繰り返すもの”ともいわれる通り、万物には周期性があります。ぜひ、あなたの...  \n",
      "1  <h2><strong>伏見稲荷大社【京都】</strong></h2><p>「五穀豊穣」の...  \n",
      "2  <p>また、こちらのおみくじは大大吉！　とかも珍しいものなので、参拝時に今年の運試しにぜひト...  \n",
      "3  <h2><strong>箱根神社・九頭龍神社【神奈川】</strong></h2><p>箱根...  \n",
      "4  <p>龍神様は“動くもの”に喜んで力を貸してくださる神様ですので、23年、勝負をかけたい！　...  \n",
      "(5020, 5)\n"
     ]
    }
   ],
   "source": [
    "import pandas as pd\n",
    "import glob\n",
    "import os\n",
    "\n",
    "# Path to the directory\n",
    "directory = \"temp_batch\"\n",
    "\n",
    "# Pattern to match files like batch_1.csv, batch_2.csv, etc.\n",
    "pattern = os.path.join(directory, \"batch_*.csv\")\n",
    "\n",
    "# Get all matching file paths\n",
    "csv_files = glob.glob(pattern)\n",
    "\n",
    "# Read and combine them\n",
    "dfs = []\n",
    "for file in csv_files:\n",
    "    df = pd.read_csv(file)\n",
    "    dfs.append(df)\n",
    "\n",
    "# Concatenate into one DataFrame\n",
    "combined_df = pd.concat(dfs, ignore_index=True)\n",
    "\n",
    "print(f\"Combined {len(csv_files)} CSV files\")\n",
    "print(combined_df.head())\n",
    "combined_df.to_csv('fix_tag_202507141400.csv',index=False)\n",
    "print(combined_df.shape)"
   ]
  },
  {
   "cell_type": "code",
   "execution_count": null,
   "id": "4db3a0de",
   "metadata": {},
   "outputs": [],
   "source": []
  }
 ],
 "metadata": {
  "kernelspec": {
   "display_name": "ads",
   "language": "python",
   "name": "python3"
  },
  "language_info": {
   "codemirror_mode": {
    "name": "ipython",
    "version": 3
   },
   "file_extension": ".py",
   "mimetype": "text/x-python",
   "name": "python",
   "nbconvert_exporter": "python",
   "pygments_lexer": "ipython3",
   "version": "3.13.2"
  }
 },
 "nbformat": 4,
 "nbformat_minor": 5
}
