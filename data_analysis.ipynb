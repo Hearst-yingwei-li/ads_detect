{
 "cells": [
  {
   "cell_type": "code",
   "execution_count": 1,
   "metadata": {},
   "outputs": [],
   "source": [
    "import pandas as pd\n",
    "import json\n",
    "import matplotlib.pyplot as plt"
   ]
  },
  {
   "cell_type": "code",
   "execution_count": 2,
   "metadata": {},
   "outputs": [],
   "source": [
    "pd.set_option('display.max_columns',None)\n",
    "# pd.set_option(\"display.max_colwidth\", None)"
   ]
  },
  {
   "cell_type": "code",
   "execution_count": 3,
   "metadata": {},
   "outputs": [],
   "source": [
    "df = pd.read_csv('output_0.csv',encoding='utf8')\n"
   ]
  },
  {
   "cell_type": "code",
   "execution_count": 4,
   "metadata": {},
   "outputs": [
    {
     "data": {
      "text/plain": [
       "(5628, 4)"
      ]
     },
     "execution_count": 4,
     "metadata": {},
     "output_type": "execute_result"
    }
   ],
   "source": [
    "df.shape"
   ]
  },
  {
   "cell_type": "code",
   "execution_count": null,
   "metadata": {},
   "outputs": [
    {
     "data": {
      "text/html": [
       "<div>\n",
       "<style scoped>\n",
       "    .dataframe tbody tr th:only-of-type {\n",
       "        vertical-align: middle;\n",
       "    }\n",
       "\n",
       "    .dataframe tbody tr th {\n",
       "        vertical-align: top;\n",
       "    }\n",
       "\n",
       "    .dataframe thead th {\n",
       "        text-align: right;\n",
       "    }\n",
       "</style>\n",
       "<table border=\"1\" class=\"dataframe\">\n",
       "  <thead>\n",
       "    <tr style=\"text-align: right;\">\n",
       "      <th></th>\n",
       "      <th>id</th>\n",
       "      <th>url</th>\n",
       "      <th>isShown</th>\n",
       "      <th>info</th>\n",
       "    </tr>\n",
       "  </thead>\n",
       "  <tbody>\n",
       "    <tr>\n",
       "      <th>2</th>\n",
       "      <td>6ebaba86-9c57-4842-a82b-db08fbb283f2</td>\n",
       "      <td>https://www.elle.com/jp/culture/celebgossip/g4...</td>\n",
       "      <td>1.0</td>\n",
       "      <td>[{\"id\":\"slide-1\",\"total\":849.8624877929688,\"sp...</td>\n",
       "    </tr>\n",
       "    <tr>\n",
       "      <th>3</th>\n",
       "      <td>5ed5e05c-7010-4596-afec-1c409fb20d64</td>\n",
       "      <td>https://www.elle.com/jp/decor/decor-interior-d...</td>\n",
       "      <td>1.0</td>\n",
       "      <td>[{\"id\":\"slide-1\",\"total\":542.1000366210938,\"sp...</td>\n",
       "    </tr>\n",
       "    <tr>\n",
       "      <th>4</th>\n",
       "      <td>a84a1916-9847-450e-93e6-13cbbe5df32e</td>\n",
       "      <td>https://www.elle.com/jp/decor/decor-interior-d...</td>\n",
       "      <td>0.0</td>\n",
       "      <td>[{\"id\":\"slide-1\",\"total\":914.4000244140625,\"sp...</td>\n",
       "    </tr>\n",
       "  </tbody>\n",
       "</table>\n",
       "</div>"
      ],
      "text/plain": [
       "                                     id  \\\n",
       "2  6ebaba86-9c57-4842-a82b-db08fbb283f2   \n",
       "3  5ed5e05c-7010-4596-afec-1c409fb20d64   \n",
       "4  a84a1916-9847-450e-93e6-13cbbe5df32e   \n",
       "\n",
       "                                                 url  isShown  \\\n",
       "2  https://www.elle.com/jp/culture/celebgossip/g4...      1.0   \n",
       "3  https://www.elle.com/jp/decor/decor-interior-d...      1.0   \n",
       "4  https://www.elle.com/jp/decor/decor-interior-d...      0.0   \n",
       "\n",
       "                                                info  \n",
       "2  [{\"id\":\"slide-1\",\"total\":849.8624877929688,\"sp...  \n",
       "3  [{\"id\":\"slide-1\",\"total\":542.1000366210938,\"sp...  \n",
       "4  [{\"id\":\"slide-1\",\"total\":914.4000244140625,\"sp...  "
      ]
     },
     "execution_count": 8,
     "metadata": {},
     "output_type": "execute_result"
    }
   ],
   "source": [
    "\n",
    "df.head(3)"
   ]
  },
  {
   "cell_type": "code",
   "execution_count": 5,
   "metadata": {},
   "outputs": [
    {
     "data": {
      "text/plain": [
       "(5595, 4)"
      ]
     },
     "execution_count": 5,
     "metadata": {},
     "output_type": "execute_result"
    }
   ],
   "source": [
    "df = df.dropna()\n",
    "df.shape"
   ]
  },
  {
   "cell_type": "code",
   "execution_count": 6,
   "metadata": {},
   "outputs": [
    {
     "data": {
      "text/plain": [
       "(3832, 4)"
      ]
     },
     "execution_count": 6,
     "metadata": {},
     "output_type": "execute_result"
    }
   ],
   "source": [
    "df_exceed = df[df['isShown'] == 1.0]\n",
    "df_exceed.shape"
   ]
  },
  {
   "cell_type": "code",
   "execution_count": 7,
   "metadata": {},
   "outputs": [
    {
     "name": "stderr",
     "output_type": "stream",
     "text": [
      "C:\\Users\\G6330\\AppData\\Local\\Temp\\ipykernel_1784\\469450131.py:12: SettingWithCopyWarning: \n",
      "A value is trying to be set on a copy of a slice from a DataFrame.\n",
      "Try using .loc[row_indexer,col_indexer] = value instead\n",
      "\n",
      "See the caveats in the documentation: https://pandas.pydata.org/pandas-docs/stable/user_guide/indexing.html#returning-a-view-versus-a-copy\n",
      "  df_exceed['filtered_info'] = df_exceed['info'].apply(filter_high_total)\n"
     ]
    }
   ],
   "source": [
    "def filter_high_total(info_str):\n",
    "    try:\n",
    "        # Load JSON string into Python list\n",
    "        info_list = json.loads(info_str)\n",
    "        # Filter dictionaries where total is greater than 670\n",
    "        filtered_list = [entry for entry in info_list if entry[\"total\"] > 670]\n",
    "        return json.dumps(filtered_list)  # Convert back to string to store in DataFrame\n",
    "    except json.JSONDecodeError:\n",
    "        return '[]'  # Return empty list if JSON decoding fails\n",
    "\n",
    "# Apply filtering function to 'info' column\n",
    "df_exceed['filtered_info'] = df_exceed['info'].apply(filter_high_total)"
   ]
  },
  {
   "cell_type": "code",
   "execution_count": null,
   "metadata": {},
   "outputs": [
    {
     "data": {
      "text/plain": [
       "2                                                                                                                                                                                                                                                                                                                                                                                                                                                                                                                                                                                                                                                                                                                                                                                                                                                                                                                                                                           [{\"id\": \"slide-1\", \"total\": 849.8624877929688, \"span\": 13.600000381469727, \"h2\": 31.200000762939453, \"img\": 566.8624877929688, \"description\": 236.8000030517578}, {\"id\": \"slide-4\", \"total\": 745.4000244140625, \"span\": 13.600000381469727, \"h2\": 31.200000762939453, \"img\": 590.4000244140625, \"description\": 108.80000305175781}, {\"id\": \"slide-6\", \"total\": 745.4000244140625, \"span\": 13.600000381469727, \"h2\": 31.200000762939453, \"img\": 590.4000244140625, \"description\": 108.80000305175781}, {\"id\": \"slide-8\", \"total\": 821.9125366210938, \"span\": 13.600000381469727, \"h2\": 31.200000762939453, \"img\": 590.1124877929688, \"description\": 185.60000610351562}, {\"id\": \"slide-11\", \"total\": 689.1749877929688, \"span\": 13.600000381469727, \"h2\": 31.200000762939453, \"img\": 534.1749877929688, \"description\": 108.80000305175781}, {\"id\": \"slide-13\", \"total\": 822.2000122070312, \"span\": 13.600000381469727, \"h2\": 31.200000762939453, \"img\": 590.4000244140625, \"description\": 185.60000610351562}, {\"id\": \"slide-15\", \"total\": 745.1124877929688, \"span\": 13.600000381469727, \"h2\": 31.200000762939453, \"img\": 590.1124877929688, \"description\": 108.80000305175781}]\n",
       "3                                                                                                                                                                                                                                                                                                                                                                                                                                                                                                                                                                                                                                                                                                                                                                                                                                                                                                                                                                                                                                                                                                                                [{\"id\": \"slide-2\", \"total\": 1197.5625, \"span\": 13.600000381469727, \"h2\": 0, \"img\": 579.9625244140625, \"description\": 617.6000366210938}, {\"id\": \"slide-3\", \"total\": 765.0375366210938, \"span\": 13.600000381469727, \"h2\": 0, \"img\": 352.2375183105469, \"description\": 380.8000183105469}, {\"id\": \"slide-4\", \"total\": 684.6000366210938, \"span\": 13.600000381469727, \"h2\": 0, \"img\": 246.1999969482422, \"description\": 406.3999938964844}, {\"id\": \"slide-5\", \"total\": 1062.6375732421875, \"span\": 13.600000381469727, \"h2\": 0, \"img\": 352.2375183105469, \"description\": 678.4000244140625}, {\"id\": \"slide-6\", \"total\": 797.4625244140625, \"span\": 13.600000381469727, \"h2\": 0, \"img\": 458.26251220703125, \"description\": 339.20001220703125}, {\"id\": \"slide-9\", \"total\": 702.7125244140625, \"span\": 13.600000381469727, \"h2\": 0, \"img\": 568.3125, \"description\": 134.40000915527344}, {\"id\": \"slide-10\", \"total\": 918.3125, \"span\": 13.600000381469727, \"h2\": 0, \"img\": 569.5125122070312, \"description\": 348.8000183105469}]\n",
       "6    [{\"id\": \"slide-1\", \"total\": 932.4000244140625, \"span\": 13.600000381469727, \"h2\": 31.200000762939453, \"img\": 262.20001220703125, \"description\": 592}, {\"id\": \"slide-2\", \"total\": 1076.4000244140625, \"span\": 0, \"h2\": 62.400001525878906, \"img\": 0, \"description\": 967}, {\"id\": \"slide-3\", \"total\": 770.7125244140625, \"span\": 13.600000381469727, \"h2\": 31.200000762939453, \"img\": 590.1124877929688, \"description\": 134.40000915527344}, {\"id\": \"slide-4\", \"total\": 759.6000366210938, \"span\": 0, \"h2\": 31.200000762939453, \"img\": 0, \"description\": 681.4000091552734}, {\"id\": \"slide-5\", \"total\": 733, \"span\": 0, \"h2\": 31.200000762939453, \"img\": 546, \"description\": 108.80000305175781}, {\"id\": \"slide-6\", \"total\": 733, \"span\": 0, \"h2\": 31.200000762939453, \"img\": 546, \"description\": 108.80000305175781}, {\"id\": \"slide-7\", \"total\": 784.2000122070312, \"span\": 0, \"h2\": 31.200000762939453, \"img\": 546, \"description\": 160}, {\"id\": \"slide-10\", \"total\": 758.6000366210938, \"span\": 0, \"h2\": 31.200000762939453, \"img\": 546, \"description\": 134.40000915527344}, {\"id\": \"slide-11\", \"total\": 683.4500122070312, \"span\": 13.600000381469727, \"h2\": 31.200000762939453, \"img\": 502.8500061035156, \"description\": 134.40000915527344}, {\"id\": \"slide-12\", \"total\": 985, \"span\": 0, \"h2\": 62.400001525878906, \"img\": 546, \"description\": 329.6000061035156}, {\"id\": \"slide-13\", \"total\": 796.6000366210938, \"span\": 13.600000381469727, \"h2\": 31.200000762939453, \"img\": 590.4000244140625, \"description\": 160}, {\"id\": \"slide-14\", \"total\": 731.1375122070312, \"span\": 13.600000381469727, \"h2\": 31.200000762939453, \"img\": 524.9375, \"description\": 160}, {\"id\": \"slide-15\", \"total\": 784.2000122070312, \"span\": 0, \"h2\": 31.200000762939453, \"img\": 546, \"description\": 160}, {\"id\": \"slide-16\", \"total\": 784.2000122070312, \"span\": 0, \"h2\": 31.200000762939453, \"img\": 546, \"description\": 160}, {\"id\": \"slide-17\", \"total\": 733, \"span\": 0, \"h2\": 31.200000762939453, \"img\": 546, \"description\": 108.80000305175781}, {\"id\": \"slide-18\", \"total\": 784.2000122070312, \"span\": 0, \"h2\": 31.200000762939453, \"img\": 546, \"description\": 160}]\n",
       "Name: filtered_info, dtype: object"
      ]
     },
     "execution_count": 13,
     "metadata": {},
     "output_type": "execute_result"
    }
   ],
   "source": [
    "df_exceed['filtered_info'].head(3)"
   ]
  },
  {
   "cell_type": "code",
   "execution_count": 8,
   "metadata": {},
   "outputs": [],
   "source": [
    "def expand_info(row):\n",
    "    try:\n",
    "        info_list = json.loads(row['filtered_info'])  # Parse JSON\n",
    "        for entry in info_list:\n",
    "            entry.pop('id', None)\n",
    "            entry['original_id'] = row['id']  # Keep track of original id\n",
    "            entry['original_url'] = row['url']  # Keep track of original URL\n",
    "        return info_list\n",
    "    except json.JSONDecodeError:\n",
    "        return []\n",
    "\n",
    "# Flatten the data\n",
    "expanded_data = df_exceed.apply(expand_info, axis=1).explode().dropna().reset_index(drop=True)\n",
    "\n",
    "# Convert list of dictionaries into DataFrame\n",
    "expanded_df = pd.json_normalize(expanded_data)\n",
    "\n",
    "# Rename columns for clarity\n",
    "expanded_df.rename(columns={'original_id': 'id', 'original_url': 'url'}, inplace=True)"
   ]
  },
  {
   "cell_type": "code",
   "execution_count": 9,
   "metadata": {},
   "outputs": [
    {
     "data": {
      "text/html": [
       "<div>\n",
       "<style scoped>\n",
       "    .dataframe tbody tr th:only-of-type {\n",
       "        vertical-align: middle;\n",
       "    }\n",
       "\n",
       "    .dataframe tbody tr th {\n",
       "        vertical-align: top;\n",
       "    }\n",
       "\n",
       "    .dataframe thead th {\n",
       "        text-align: right;\n",
       "    }\n",
       "</style>\n",
       "<table border=\"1\" class=\"dataframe\">\n",
       "  <thead>\n",
       "    <tr style=\"text-align: right;\">\n",
       "      <th></th>\n",
       "      <th>total</th>\n",
       "      <th>span</th>\n",
       "      <th>h2</th>\n",
       "      <th>img</th>\n",
       "      <th>description</th>\n",
       "      <th>id</th>\n",
       "      <th>url</th>\n",
       "    </tr>\n",
       "  </thead>\n",
       "  <tbody>\n",
       "    <tr>\n",
       "      <th>0</th>\n",
       "      <td>849.862488</td>\n",
       "      <td>13.6</td>\n",
       "      <td>31.200001</td>\n",
       "      <td>566.862488</td>\n",
       "      <td>236.800003</td>\n",
       "      <td>6ebaba86-9c57-4842-a82b-db08fbb283f2</td>\n",
       "      <td>https://www.elle.com/jp/culture/celebgossip/g4...</td>\n",
       "    </tr>\n",
       "    <tr>\n",
       "      <th>1</th>\n",
       "      <td>745.400024</td>\n",
       "      <td>13.6</td>\n",
       "      <td>31.200001</td>\n",
       "      <td>590.400024</td>\n",
       "      <td>108.800003</td>\n",
       "      <td>6ebaba86-9c57-4842-a82b-db08fbb283f2</td>\n",
       "      <td>https://www.elle.com/jp/culture/celebgossip/g4...</td>\n",
       "    </tr>\n",
       "  </tbody>\n",
       "</table>\n",
       "</div>"
      ],
      "text/plain": [
       "        total  span         h2         img  description  \\\n",
       "0  849.862488  13.6  31.200001  566.862488   236.800003   \n",
       "1  745.400024  13.6  31.200001  590.400024   108.800003   \n",
       "\n",
       "                                     id  \\\n",
       "0  6ebaba86-9c57-4842-a82b-db08fbb283f2   \n",
       "1  6ebaba86-9c57-4842-a82b-db08fbb283f2   \n",
       "\n",
       "                                                 url  \n",
       "0  https://www.elle.com/jp/culture/celebgossip/g4...  \n",
       "1  https://www.elle.com/jp/culture/celebgossip/g4...  "
      ]
     },
     "execution_count": 9,
     "metadata": {},
     "output_type": "execute_result"
    }
   ],
   "source": [
    "expanded_df.head(2)"
   ]
  },
  {
   "cell_type": "code",
   "execution_count": 10,
   "metadata": {},
   "outputs": [
    {
     "data": {
      "text/plain": [
       "(34176, 7)"
      ]
     },
     "execution_count": 10,
     "metadata": {},
     "output_type": "execute_result"
    }
   ],
   "source": [
    "expanded_df.shape"
   ]
  },
  {
   "cell_type": "code",
   "execution_count": 11,
   "metadata": {},
   "outputs": [
    {
     "name": "stdout",
     "output_type": "stream",
     "text": [
      "40\n",
      "51\n",
      "3987\n",
      "2184\n"
     ]
    }
   ],
   "source": [
    "unique_span = expanded_df['span'].unique()\n",
    "print(len(unique_span))\n",
    "unique_h2 = expanded_df['h2'].unique()\n",
    "print(len(unique_h2))\n",
    "unique_img = expanded_df['img'].unique()\n",
    "print(len(unique_img))\n",
    "unique_description = expanded_df['description'].unique()\n",
    "print(len(unique_description))\n"
   ]
  },
  {
   "cell_type": "code",
   "execution_count": 17,
   "metadata": {},
   "outputs": [
    {
     "data": {
      "text/plain": [
       "span\n",
       "13.600000     10423\n",
       "0.000000       9437\n",
       "16.800001      2883\n",
       "72.800003      2812\n",
       "21.600000      2549\n",
       "40.000000      1615\n",
       "19.200001      1060\n",
       "80.599998       920\n",
       "15.000000       905\n",
       "11.200000       742\n",
       "64.000000       451\n",
       "30.237501       113\n",
       "22.400000        64\n",
       "24.000000        46\n",
       "23.650000        35\n",
       "46.875000        19\n",
       "57.600002        12\n",
       "20.700001        12\n",
       "37.799999        11\n",
       "54.000000         8\n",
       "62.000000         7\n",
       "35.037502         6\n",
       "35.200001         6\n",
       "63.512501         6\n",
       "27.837500         5\n",
       "49.600002         4\n",
       "84.000000         4\n",
       "67.200005         3\n",
       "36.000000         3\n",
       "47.000000         3\n",
       "31.200001         2\n",
       "17.600000         2\n",
       "100.800003        1\n",
       "51.200001         1\n",
       "203.199997        1\n",
       "149.600006        1\n",
       "303.200012        1\n",
       "33.437500         1\n",
       "47.200001         1\n",
       "102.599998        1\n",
       "Name: count, dtype: int64"
      ]
     },
     "execution_count": 17,
     "metadata": {},
     "output_type": "execute_result"
    }
   ],
   "source": [
    "expanded_df['span'].value_counts()"
   ]
  },
  {
   "cell_type": "code",
   "execution_count": 13,
   "metadata": {},
   "outputs": [
    {
     "data": {
      "text/html": [
       "<div>\n",
       "<style scoped>\n",
       "    .dataframe tbody tr th:only-of-type {\n",
       "        vertical-align: middle;\n",
       "    }\n",
       "\n",
       "    .dataframe tbody tr th {\n",
       "        vertical-align: top;\n",
       "    }\n",
       "\n",
       "    .dataframe thead th {\n",
       "        text-align: right;\n",
       "    }\n",
       "</style>\n",
       "<table border=\"1\" class=\"dataframe\">\n",
       "  <thead>\n",
       "    <tr style=\"text-align: right;\">\n",
       "      <th></th>\n",
       "      <th>total</th>\n",
       "      <th>span</th>\n",
       "      <th>h2</th>\n",
       "      <th>img</th>\n",
       "      <th>description</th>\n",
       "    </tr>\n",
       "  </thead>\n",
       "  <tbody>\n",
       "    <tr>\n",
       "      <th>count</th>\n",
       "      <td>34176.000000</td>\n",
       "      <td>34176.000000</td>\n",
       "      <td>34176.000000</td>\n",
       "      <td>34176.000000</td>\n",
       "      <td>34176.000000</td>\n",
       "    </tr>\n",
       "    <tr>\n",
       "      <th>mean</th>\n",
       "      <td>860.354705</td>\n",
       "      <td>19.684058</td>\n",
       "      <td>39.167857</td>\n",
       "      <td>470.409767</td>\n",
       "      <td>308.540600</td>\n",
       "    </tr>\n",
       "    <tr>\n",
       "      <th>std</th>\n",
       "      <td>171.490075</td>\n",
       "      <td>22.506723</td>\n",
       "      <td>25.499507</td>\n",
       "      <td>190.570815</td>\n",
       "      <td>234.835298</td>\n",
       "    </tr>\n",
       "    <tr>\n",
       "      <th>min</th>\n",
       "      <td>670.037537</td>\n",
       "      <td>0.000000</td>\n",
       "      <td>0.000000</td>\n",
       "      <td>0.000000</td>\n",
       "      <td>0.000000</td>\n",
       "    </tr>\n",
       "    <tr>\n",
       "      <th>25%</th>\n",
       "      <td>734.600037</td>\n",
       "      <td>0.000000</td>\n",
       "      <td>31.200001</td>\n",
       "      <td>388.946884</td>\n",
       "      <td>134.400009</td>\n",
       "    </tr>\n",
       "    <tr>\n",
       "      <th>50%</th>\n",
       "      <td>814.062500</td>\n",
       "      <td>13.600000</td>\n",
       "      <td>33.600002</td>\n",
       "      <td>546.000000</td>\n",
       "      <td>268.200012</td>\n",
       "    </tr>\n",
       "    <tr>\n",
       "      <th>75%</th>\n",
       "      <td>935.600037</td>\n",
       "      <td>21.600000</td>\n",
       "      <td>62.400002</td>\n",
       "      <td>590.112488</td>\n",
       "      <td>408.800018</td>\n",
       "    </tr>\n",
       "    <tr>\n",
       "      <th>max</th>\n",
       "      <td>3588.100098</td>\n",
       "      <td>303.200012</td>\n",
       "      <td>290.399994</td>\n",
       "      <td>1747.599976</td>\n",
       "      <td>3128.600098</td>\n",
       "    </tr>\n",
       "  </tbody>\n",
       "</table>\n",
       "</div>"
      ],
      "text/plain": [
       "              total          span            h2           img   description\n",
       "count  34176.000000  34176.000000  34176.000000  34176.000000  34176.000000\n",
       "mean     860.354705     19.684058     39.167857    470.409767    308.540600\n",
       "std      171.490075     22.506723     25.499507    190.570815    234.835298\n",
       "min      670.037537      0.000000      0.000000      0.000000      0.000000\n",
       "25%      734.600037      0.000000     31.200001    388.946884    134.400009\n",
       "50%      814.062500     13.600000     33.600002    546.000000    268.200012\n",
       "75%      935.600037     21.600000     62.400002    590.112488    408.800018\n",
       "max     3588.100098    303.200012    290.399994   1747.599976   3128.600098"
      ]
     },
     "execution_count": 13,
     "metadata": {},
     "output_type": "execute_result"
    }
   ],
   "source": [
    "expanded_height_df = expanded_df[['total','span','h2','img','description']]\n",
    "expanded_height_df.describe()"
   ]
  },
  {
   "cell_type": "code",
   "execution_count": 14,
   "metadata": {},
   "outputs": [
    {
     "data": {
      "text/html": [
       "<div>\n",
       "<style scoped>\n",
       "    .dataframe tbody tr th:only-of-type {\n",
       "        vertical-align: middle;\n",
       "    }\n",
       "\n",
       "    .dataframe tbody tr th {\n",
       "        vertical-align: top;\n",
       "    }\n",
       "\n",
       "    .dataframe thead th {\n",
       "        text-align: right;\n",
       "    }\n",
       "</style>\n",
       "<table border=\"1\" class=\"dataframe\">\n",
       "  <thead>\n",
       "    <tr style=\"text-align: right;\">\n",
       "      <th></th>\n",
       "      <th>total</th>\n",
       "      <th>span</th>\n",
       "      <th>h2</th>\n",
       "      <th>img</th>\n",
       "      <th>description</th>\n",
       "    </tr>\n",
       "  </thead>\n",
       "  <tbody>\n",
       "    <tr>\n",
       "      <th>0</th>\n",
       "      <td>849.862488</td>\n",
       "      <td>13.6</td>\n",
       "      <td>31.200001</td>\n",
       "      <td>566.862488</td>\n",
       "      <td>236.800003</td>\n",
       "    </tr>\n",
       "    <tr>\n",
       "      <th>1</th>\n",
       "      <td>745.400024</td>\n",
       "      <td>13.6</td>\n",
       "      <td>31.200001</td>\n",
       "      <td>590.400024</td>\n",
       "      <td>108.800003</td>\n",
       "    </tr>\n",
       "    <tr>\n",
       "      <th>2</th>\n",
       "      <td>745.400024</td>\n",
       "      <td>13.6</td>\n",
       "      <td>31.200001</td>\n",
       "      <td>590.400024</td>\n",
       "      <td>108.800003</td>\n",
       "    </tr>\n",
       "    <tr>\n",
       "      <th>3</th>\n",
       "      <td>821.912537</td>\n",
       "      <td>13.6</td>\n",
       "      <td>31.200001</td>\n",
       "      <td>590.112488</td>\n",
       "      <td>185.600006</td>\n",
       "    </tr>\n",
       "    <tr>\n",
       "      <th>4</th>\n",
       "      <td>689.174988</td>\n",
       "      <td>13.6</td>\n",
       "      <td>31.200001</td>\n",
       "      <td>534.174988</td>\n",
       "      <td>108.800003</td>\n",
       "    </tr>\n",
       "  </tbody>\n",
       "</table>\n",
       "</div>"
      ],
      "text/plain": [
       "        total  span         h2         img  description\n",
       "0  849.862488  13.6  31.200001  566.862488   236.800003\n",
       "1  745.400024  13.6  31.200001  590.400024   108.800003\n",
       "2  745.400024  13.6  31.200001  590.400024   108.800003\n",
       "3  821.912537  13.6  31.200001  590.112488   185.600006\n",
       "4  689.174988  13.6  31.200001  534.174988   108.800003"
      ]
     },
     "execution_count": 14,
     "metadata": {},
     "output_type": "execute_result"
    }
   ],
   "source": [
    "expanded_height_df.head(5)"
   ]
  },
  {
   "cell_type": "code",
   "execution_count": 15,
   "metadata": {},
   "outputs": [
    {
     "data": {
      "image/png": "[encoded data removed]",
      "text/plain": [
       "<Figure size 1200x400 with 1 Axes>"
      ]
     },
     "metadata": {},
     "output_type": "display_data"
    },
    {
     "data": {
      "image/png": "[encoded data removed]",
      "text/plain": [
       "<Figure size 1200x400 with 1 Axes>"
      ]
     },
     "metadata": {},
     "output_type": "display_data"
    },
    {
     "data": {
      "image/png": "[encoded data removed]",
      "text/plain": [
       "<Figure size 1200x400 with 1 Axes>"
      ]
     },
     "metadata": {},
     "output_type": "display_data"
    },
    {
     "data": {
      "image/png": "[encoded data removed]",
      "text/plain": [
       "<Figure size 1200x400 with 1 Axes>"
      ]
     },
     "metadata": {},
     "output_type": "display_data"
    },
    {
     "data": {
      "image/png": "[encoded data removed]",
      "text/plain": [
       "<Figure size 1200x400 with 1 Axes>"
      ]
     },
     "metadata": {},
     "output_type": "display_data"
    }
   ],
   "source": [
    "for column in [\"total\", \"span\", \"h2\", \"img\", \"description\"]:\n",
    "    plt.figure(figsize=(12, 4))\n",
    "    plt.hist(expanded_height_df[column], bins=100, edgecolor='black', alpha=0.7)\n",
    "    plt.title(f\"Distribution of {column}\")\n",
    "    plt.xlabel(column)\n",
    "    plt.ylabel(\"Frequency\")\n",
    "    plt.grid(True)\n",
    "    plt.show()"
   ]
  },
  {
   "cell_type": "code",
   "execution_count": null,
   "metadata": {},
   "outputs": [],
   "source": []
  }
 ],
 "metadata": {
  "kernelspec": {
   "display_name": "ads",
   "language": "python",
   "name": "python3"
  },
  "language_info": {
   "codemirror_mode": {
    "name": "ipython",
    "version": 3
   },
   "file_extension": ".py",
   "mimetype": "text/x-python",
   "name": "python",
   "nbconvert_exporter": "python",
   "pygments_lexer": "ipython3",
   "version": "3.13.2"
  }
 },
 "nbformat": 4,
 "nbformat_minor": 2
}
